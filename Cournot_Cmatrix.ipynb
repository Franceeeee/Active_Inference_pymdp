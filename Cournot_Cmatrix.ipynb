{
 "cells": [
  {
   "cell_type": "code",
   "execution_count": 413,
   "metadata": {},
   "outputs": [],
   "source": [
    "import numpy as np\n",
    "import matplotlib.pyplot as plt\n",
    "import seaborn as sns\n",
    "\n",
    "import pymdp\n",
    "from pymdp import utils"
   ]
  },
  {
   "cell_type": "markdown",
   "metadata": {},
   "source": [
    "# O, S, U"
   ]
  },
  {
   "cell_type": "code",
   "execution_count": 414,
   "metadata": {},
   "outputs": [],
   "source": [
    "# Sales states (how much has been sold)\n",
    "Sales_1 =  np.array([0, 1, 2, 3, 4, 5])\n",
    "Sales_2 =  np.array([0, 1, 2, 3, 4, 5])\n",
    "\n",
    "# Market states (if I have produced enaugh or not)\n",
    "Market_1 = ['Produced excess', 'Produced right', 'Not produced enaugh']\n",
    "Market_2 = ['Produced excess', 'Produced right', 'Not produced enaugh']\n",
    "\n",
    "# number of states\n",
    "n_states_1 = [len(Sales_1), len(Market_1)]\n",
    "n_states_2 = [len(Sales_2), len(Market_2)]\n",
    "\n",
    "# number of factors\n",
    "n_factors_1 = len(n_states_1) \n",
    "n_factors_2 = len(n_states_2)\n",
    "\n",
    "# actions\n",
    "Production_1 =  np.array([0, 1, 2, 3, 4, 5])\n",
    "Production_2 =  np.array([0, 1, 2, 3, 4, 5])\n",
    "\n",
    "satisfy_market_action = ['Market survey'] # OK, si potrebbe aggiungere la scelta di non fare il market survey, magari farlo ha costo, prima però facciamo\n",
    "                                          # funzionare il caso base\n",
    "\n",
    "num_controls_1 = [len(Production_1), len(satisfy_market_action)]\n",
    "num_controls_2 = [len(Production_2), len(satisfy_market_action)]\n",
    "\n",
    "# observations of sales and market observations (satisfied costumer demand or not)\n",
    "obs_sales_1 = np.array([0, 1, 2, 3, 4, 5])\n",
    "obs_sales_2 = np.array([0, 1, 2, 3, 4, 5])\n",
    "\n",
    "obs_market_1 = ['Exceded', 'Satisfied', 'Unsatisfied'] \n",
    "obs_market_2 = ['Exceded', 'Satisfied', 'Unsatisfied']\n",
    "\n",
    "# number of observations and modalities\n",
    "num_obs_1 = [len(obs_sales_1), len(obs_market_1)]\n",
    "num_obs_2 = [len(obs_sales_2), len(obs_market_2)]\n",
    "\n",
    "num_modalities_1 = len(num_obs_1) \n",
    "num_modalities_2 = len(num_obs_2)"
   ]
  },
  {
   "cell_type": "markdown",
   "metadata": {},
   "source": [
    "# A"
   ]
  },
  {
   "cell_type": "code",
   "execution_count": 415,
   "metadata": {},
   "outputs": [
    {
     "name": "stdout",
     "output_type": "stream",
     "text": [
      "[[0 0 0 0 0]\n",
      " [1 0 0 0 0]\n",
      " [0 1 0 0 0]\n",
      " [0 0 1 0 0]\n",
      " [0 0 0 1 1]]\n"
     ]
    }
   ],
   "source": [
    "import numpy as np\n",
    "\n",
    "# Definizione della dimensione della matrice\n",
    "n = 5  # Puoi cambiare la dimensione a piacere\n",
    "\n",
    "# Creazione di una matrice di zeri\n",
    "matrix = np.zeros((n, n), dtype=int)\n",
    "\n",
    "# Riempimento della prima sottodiagonale con 1\n",
    "for i in range(1, n):\n",
    "    matrix[i, i-1] = 1\n",
    "\n",
    "# Sostituzione dell'ultimo elemento in basso a destra con 1\n",
    "matrix[-1, -1] = 1\n",
    "\n",
    "# Stampa della matrice\n",
    "print(matrix)"
   ]
  },
  {
   "cell_type": "code",
   "execution_count": 416,
   "metadata": {},
   "outputs": [],
   "source": [
    "A1 = utils.obj_array(num_modalities_1)\n",
    "A2 = utils.obj_array(num_modalities_2)"
   ]
  },
  {
   "cell_type": "markdown",
   "metadata": {},
   "source": [
    "## sales"
   ]
  },
  {
   "cell_type": "code",
   "execution_count": 417,
   "metadata": {},
   "outputs": [],
   "source": [
    "# Sales obs x State Sales x State Market\n",
    "A1_sales = np.zeros((len(obs_sales_1), len(Sales_1), len(Market_1)))\n",
    "A2_sales = np.zeros((len(obs_sales_2), len(Sales_2), len(Market_2)))\n",
    "\n",
    "# Agent 1 Likelihood\n",
    "for i in range(1, len(Sales_1)):\n",
    "    A1_sales[i-1, i, 0] = 1\n",
    "A1_sales[0, 0, 0] = 1\n",
    "\n",
    "A1_sales[:,:,1] = np.eye(len(Sales_1)) # match demand \n",
    "\n",
    "for i in range(1, len(Sales_1)):\n",
    "    A1_sales[i, i-1, 2] = 1\n",
    "A1_sales[-1, -1, 2] = 1\n",
    "\n",
    "# Agent 2 Likelihood\n",
    "for i in range(1, len(Sales_2)):\n",
    "    A2_sales[i-1, i, 0] = 1\n",
    "A2_sales[0, 0, 0] = 1\n",
    "\n",
    "A2_sales[:,:,1] = np.eye(len(Sales_2)) # match demand \n",
    "\n",
    "for i in range(1, len(Sales_2)):\n",
    "    A2_sales[i, i-1, 2] = 1\n",
    "A2_sales[-1, -1, 2] = 1\n",
    "\n",
    "A1[0] = A1_sales\n",
    "A2[0] = A2_sales"
   ]
  },
  {
   "cell_type": "markdown",
   "metadata": {},
   "source": [
    "## market"
   ]
  },
  {
   "cell_type": "code",
   "execution_count": 418,
   "metadata": {},
   "outputs": [],
   "source": [
    "A1_market = np.zeros((len(obs_market_1), len(Sales_1), len(Market_1)))\n",
    "A2_market = np.zeros((len(obs_market_2), len(Sales_2), len(Market_2)))\n",
    "\n",
    "trust_market = 1.0 # 1 means perfect trust\n",
    "# NB: per come sono fatte le cose al momento non ha senso !=1\n",
    "\n",
    "# Assign perception probabilities\n",
    "A1_market[0, :, 0] = trust_market           # exceded <- produced excess\n",
    "A1_market[1, :, 0] = (1 - trust_market)/2   # satisfied <- produced excess\n",
    "A1_market[2, :, 0] = (1 - trust_market)/2   # etc...\n",
    "A1_market[0, :, 1] = (1 - trust_market)/2\n",
    "A1_market[1, :, 1] = trust_market\n",
    "A1_market[2, :, 1] = (1 - trust_market)/2\n",
    "A1_market[0, :, 2] = (1 - trust_market)/2\n",
    "A1_market[1, :, 2] = (1 - trust_market)/2\n",
    "A1_market[2, :, 2] = trust_market\n",
    "\n",
    "A2_market[0, :, 0] = trust_market\n",
    "A2_market[1, :, 0] = (1 - trust_market)/2\n",
    "A2_market[2, :, 0] = (1 - trust_market)/2\n",
    "A2_market[0, :, 1] = (1 - trust_market)/2\n",
    "A2_market[1, :, 1] = trust_market\n",
    "A2_market[2, :, 1] = (1 - trust_market)/2\n",
    "A2_market[0, :, 2] = (1 - trust_market)/2\n",
    "A2_market[1, :, 2] = (1 - trust_market)/2\n",
    "A2_market[2, :, 2] = trust_market\n",
    "\n",
    "A1[1] = A1_market\n",
    "A2[1] = A2_market"
   ]
  },
  {
   "cell_type": "markdown",
   "metadata": {},
   "source": [
    "# B"
   ]
  },
  {
   "cell_type": "code",
   "execution_count": 419,
   "metadata": {},
   "outputs": [],
   "source": [
    "B1 = utils.obj_array(n_factors_1)\n",
    "B2 = utils.obj_array(n_factors_2)"
   ]
  },
  {
   "cell_type": "markdown",
   "metadata": {},
   "source": [
    "# sales"
   ]
  },
  {
   "cell_type": "code",
   "execution_count": 420,
   "metadata": {},
   "outputs": [],
   "source": [
    "B1_sales = np.zeros((len(Sales_1), len(Sales_1), len(Production_1)))\n",
    "B2_sales = np.zeros((len(Sales_2), len(Sales_2), len(Production_2)))\n",
    "\n",
    "#I can sell as much as I produce (potentially) independently from previous sales\n",
    "for i in range(len(Production_1)):\n",
    "    for end_state in range(len(Production_1)):\n",
    "        if end_state <= i:\n",
    "            B1_sales[end_state, :, i] = 1/(i+1)\n",
    "\n",
    "#completing agent2 transition matrix\n",
    "for i in range(len(Production_2)):\n",
    "    for end_state in range(len(Production_2)):\n",
    "        if end_state <= i:\n",
    "            B2_sales[end_state, :, i] = 1/(i+1)\n",
    "\n",
    "B1[0] = B1_sales\n",
    "B2[0] = B2_sales"
   ]
  },
  {
   "cell_type": "markdown",
   "metadata": {},
   "source": [
    "## market"
   ]
  },
  {
   "cell_type": "code",
   "execution_count": 421,
   "metadata": {},
   "outputs": [],
   "source": [
    "B1_market = np.zeros((len(Market_1), len(Market_1), len(satisfy_market_action)))\n",
    "B2_market = np.zeros((len(Market_2), len(Market_2), len(satisfy_market_action)))\n",
    "\n",
    "B1_market[:,:,0] = np.full((len(Market_1), len(Market_1)), 1/3)\n",
    "B2_market[:,:,0] = np.full((len(Market_1), len(Market_1)), 1/3)\n",
    "\n",
    "B1[1] = B1_market\n",
    "B2[1] = B2_market"
   ]
  },
  {
   "cell_type": "markdown",
   "metadata": {},
   "source": [
    "# C"
   ]
  },
  {
   "cell_type": "code",
   "execution_count": 422,
   "metadata": {},
   "outputs": [],
   "source": [
    "T_step = 5\n",
    "\n",
    "C1 = np.array([np.zeros((n, T_step)) for n in num_obs_1], dtype=object)\n",
    "C2 = utils.obj_array_zeros(num_obs_2)"
   ]
  },
  {
   "cell_type": "markdown",
   "metadata": {},
   "source": [
    "## Profit"
   ]
  },
  {
   "cell_type": "code",
   "execution_count": 423,
   "metadata": {},
   "outputs": [],
   "source": [
    "assumed_market_price_1 = 10 # earning from a single piece\n",
    "production_cost_1 = 5 # price of a single piece\n",
    "discount_rate_1 = np.ones(len(Production_1)) #np.array([1, 1, 0.9, 0.8, 0.7, 0.6]) # the more I produce the less I pay\n",
    "\n",
    "assumed_market_price_2 = 10 # earning from a single piece\n",
    "production_cost_2 = 5 # price of a single piece\n",
    "discount_rate_2 = np.ones(len(Production_2)) # the more I produce the less I pay"
   ]
  },
  {
   "cell_type": "code",
   "execution_count": 424,
   "metadata": {},
   "outputs": [],
   "source": [
    "def gain(market_price, prod_cost, n_sells, Production):\n",
    "    C_gain = (market_price-prod_cost)*Production - np.maximum(0,(Production-n_sells))*prod_cost\n",
    "    return C_gain"
   ]
  },
  {
   "cell_type": "code",
   "execution_count": 425,
   "metadata": {},
   "outputs": [],
   "source": [
    "C_gain_1 = gain(market_price=assumed_market_price_1, prod_cost=production_cost_1, n_sells=max(Production_1), Production=Production_1)\n",
    "C_gain_2 = gain(market_price=assumed_market_price_2, prod_cost=production_cost_2, n_sells=max(Production_2), Production=Production_2)\n",
    "\n",
    "C1[0][:,0] = C_gain_1\n",
    "C2[0] = C_gain_2"
   ]
  },
  {
   "cell_type": "markdown",
   "metadata": {},
   "source": [
    "## market"
   ]
  },
  {
   "cell_type": "code",
   "execution_count": 426,
   "metadata": {},
   "outputs": [],
   "source": [
    "C1_market = np.zeros(len(obs_market_1))\n",
    "C1[1][:,0] = C1_market\n",
    "\n",
    "C2_market = np.zeros(len(obs_market_2))\n",
    "C2[1] = C2_market"
   ]
  },
  {
   "cell_type": "markdown",
   "metadata": {},
   "source": [
    "# D"
   ]
  },
  {
   "cell_type": "code",
   "execution_count": 427,
   "metadata": {},
   "outputs": [],
   "source": [
    "D1 = utils.obj_array(n_factors_1)\n",
    "D2 = utils.obj_array(n_factors_2)\n",
    "\n",
    "# Sales state prior\n",
    "D1[0] = np.full(len(Sales_1), 1 / len(Sales_1))\n",
    "D2[0] = np.full(len(Sales_2), 1 / len(Sales_2))\n",
    "\n",
    "# Market state prior\n",
    "D1[1] = np.full(len(Market_1), 1 / len(Market_1))\n",
    "D2[1] = np.full(len(Market_2), 1 / len(Market_2))"
   ]
  },
  {
   "cell_type": "markdown",
   "metadata": {},
   "source": [
    "# Agent"
   ]
  },
  {
   "cell_type": "code",
   "execution_count": 428,
   "metadata": {},
   "outputs": [],
   "source": [
    "B1_prior = utils.dirichlet_like(B1)\n",
    "B2_prior = utils.dirichlet_like(B2)"
   ]
  },
  {
   "cell_type": "code",
   "execution_count": 429,
   "metadata": {},
   "outputs": [],
   "source": [
    "from pymdp.agent import Agent\n",
    "\n",
    "my_agent1 = Agent(A = A1, B = B1, C = C1, D = D1, policy_len=3,\n",
    "                    use_states_info_gain = False, #True di default\n",
    "                    use_param_info_gain = False, #False di default\n",
    "                    num_controls = num_controls_1, \n",
    "                    pA = None, lr_pA=1.0, modalities_to_learn=\"all\",\n",
    "                    pB = B1_prior, lr_pB=0.5, pD = None, lr_pD=1.0, factors_to_learn='all')\n",
    "\n",
    "my_agent2 = Agent(A = A2, B = B2, C = C2, D = D2, policy_len=3,\n",
    "                    use_states_info_gain = False, #True di default\n",
    "                    use_param_info_gain = False, #False di default\n",
    "                    num_controls = num_controls_2, \n",
    "                    pA = None, lr_pA=1.0, modalities_to_learn=\"all\",\n",
    "                    pB = B1_prior, lr_pB=0.5, pD = None, lr_pD=1.0, factors_to_learn='all')"
   ]
  },
  {
   "cell_type": "markdown",
   "metadata": {},
   "source": [
    "# Environment"
   ]
  },
  {
   "cell_type": "code",
   "execution_count": 430,
   "metadata": {},
   "outputs": [],
   "source": [
    "class CournotMarket(object):\n",
    "\n",
    "    def __init__(self, reputation=0.5, total_demand=5, max_customer_price=10, sensibility=1):\n",
    "        self.reputation = float(reputation)\n",
    "        self.total_demand = float(total_demand)\n",
    "        self.max_customer_price = float(max_customer_price)\n",
    "        self.sensibility = float(sensibility)\n",
    "        self.market_obs_names = ['Satisfied', 'Exceded', 'Unsatisfied']\n",
    "    \n",
    "    def market_status(self, actual_production, preferred_demand):\n",
    "        if actual_production > preferred_demand:\n",
    "            return 'Exceded'\n",
    "        elif actual_production < preferred_demand:\n",
    "            return 'Unsatisfied'\n",
    "        else:\n",
    "            return 'Satisfied'\n",
    "\n",
    "    def step(self, action1, action2):\n",
    "        total_production = action1[0] + action2[0]\n",
    "        \n",
    "        market_price = max(0, self.max_customer_price - self.sensibility * total_production)\n",
    "        #market_price = 6\n",
    "        \n",
    "        preferred_demand_1 = int(self.total_demand * self.reputation)\n",
    "        preferred_demand_2 = self.total_demand - preferred_demand_1\n",
    "        \n",
    "        actual_sales_1 = min(action1[0], preferred_demand_1)\n",
    "        actual_sales_2 = min(action2[0], preferred_demand_2)\n",
    "        \n",
    "        remaining_demand_1 = preferred_demand_1 - actual_sales_1\n",
    "        remaining_demand_2 = preferred_demand_2 - actual_sales_2\n",
    "        \n",
    "        if remaining_demand_1 > 0 and action2[0] > actual_sales_2:\n",
    "            extra_sales_2 = min(action2[0] - actual_sales_2, remaining_demand_1)\n",
    "            actual_sales_2 += extra_sales_2\n",
    "            remaining_demand_1 -= extra_sales_2\n",
    "        \n",
    "        if remaining_demand_2 > 0 and action1[0] > actual_sales_1:\n",
    "            extra_sales_1 = min(action1[0] - actual_sales_1, remaining_demand_2)\n",
    "            actual_sales_1 += extra_sales_1\n",
    "            remaining_demand_2 -= extra_sales_1\n",
    "        \n",
    "        obs_sales = [int(actual_sales_1), int(actual_sales_2)] \n",
    "        obs_market = [self.market_status(action1[0], preferred_demand_1),\n",
    "                      self.market_status(action2[0], preferred_demand_2)]\n",
    "        return obs_sales, obs_market, market_price"
   ]
  },
  {
   "cell_type": "markdown",
   "metadata": {},
   "source": [
    "# Loop"
   ]
  },
  {
   "cell_type": "code",
   "execution_count": 431,
   "metadata": {},
   "outputs": [],
   "source": [
    "def run_active_inference_loop(my_agent1, my_agent2, my_env, T = 5):\n",
    "    \"\"\"Initialize first observation\"\"\"\n",
    "    market_label = ['Exceded' ,'Satisfied', 'Unsatisfied']\n",
    "    obs1 = [0, obs_market_1.index(market_label[0])] #sales at T = -1 + market satisfaction <= come se dovessimo ancora produrre\n",
    "    obs2 = [0, obs_market_2.index(market_label[0])]\n",
    "\n",
    "    for t in range(T):\n",
    "        qs_1 = my_agent1.infer_states(obs1)\n",
    "        qs_2 = my_agent2.infer_states(obs2)\n",
    "\n",
    "        q_pi_1, efe_1 = my_agent1.infer_policies()\n",
    "        q_pi_2, efe_2 = my_agent2.infer_policies()\n",
    "\n",
    "        action_1 = my_agent1.sample_action()\n",
    "        action_2 = my_agent2.sample_action()\n",
    "\n",
    "        obs = my_env.step(action_1, action_2)\n",
    "        obs_sales = obs[0]\n",
    "        obs_market = obs[1]\n",
    "        market_price = obs[2]\n",
    "\n",
    "        my_agent1.C[0][:,t] = gain(market_price=market_price, prod_cost=production_cost_1, n_sells=obs_sales[0], Production=Production_1)\n",
    "        my_agent2.C[0] = gain(market_price=market_price, prod_cost=production_cost_2, n_sells=obs_sales[1], Production=Production_2)\n",
    "        \n",
    "        obs1 = [obs_sales[0], obs_market_1.index(obs_market[0])]\n",
    "        obs2 = [obs_sales[1], obs_market_2.index(obs_market[1])]\n",
    "\n",
    "        print(f\"C1[{t}] = {my_agent1.C[0][:, t]} market price = {market_price}\")\n",
    "        print(\"C2 = \", my_agent2.C[0], \"markt price = \", market_price)\n",
    "        print(f'Production industry 1 at time {t}: {action_1[0]}')\n",
    "        print(f'Production industry 2 at time {t}: {action_2[0]}') \n",
    "        print(f'Sells of industries at time {t}: {obs[0]}')\n",
    "        print(f'Market at time {t}: {obs[1]}')\n"
   ]
  },
  {
   "cell_type": "markdown",
   "metadata": {},
   "source": [
    "# Main"
   ]
  },
  {
   "cell_type": "code",
   "execution_count": 432,
   "metadata": {},
   "outputs": [],
   "source": [
    "import warnings\n",
    "warnings.filterwarnings('ignore')"
   ]
  },
  {
   "cell_type": "code",
   "execution_count": 433,
   "metadata": {},
   "outputs": [
    {
     "name": "stdout",
     "output_type": "stream",
     "text": [
      "C1[0] = [ 0.  1.  2.  3. -1. -5.] market price = 6.0\n",
      "C2 =  [ 0.  1.  2.  3. -1. -5.] markt price =  6.0\n",
      "Production industry 1 at time 0: 5.0\n",
      "Production industry 2 at time 0: 5.0\n",
      "Sells of industries at time 0: [3, 3]\n",
      "Market at time 0: ['Exceded', 'Exceded']\n",
      "C1[1] = [ 0.  5. 10. 15. 15. 15.] market price = 10.0\n",
      "C2 =  [ 0.  5. 10. 15. 15. 15.] markt price =  10.0\n",
      "Production industry 1 at time 1: 3.0\n",
      "Production industry 2 at time 1: 3.0\n",
      "Sells of industries at time 1: [3, 3]\n",
      "Market at time 1: ['Satisfied', 'Satisfied']\n",
      "C1[2] = [0. 3. 6. 9. 7. 5.] market price = 8.0\n",
      "C2 =  [0. 3. 6. 9. 7. 5.] markt price =  8.0\n",
      "Production industry 1 at time 2: 3.0\n",
      "Production industry 2 at time 2: 5.0\n",
      "Sells of industries at time 2: [3, 3]\n",
      "Market at time 2: ['Satisfied', 'Exceded']\n",
      "C1[3] = [0. 3. 6. 9. 7. 5.] market price = 8.0\n",
      "C2 =  [0. 3. 6. 9. 7. 5.] markt price =  8.0\n",
      "Production industry 1 at time 3: 3.0\n",
      "Production industry 2 at time 3: 5.0\n",
      "Sells of industries at time 3: [3, 3]\n",
      "Market at time 3: ['Satisfied', 'Exceded']\n",
      "C1[4] = [0. 3. 6. 9. 7. 5.] market price = 8.0\n",
      "C2 =  [0. 3. 6. 9. 7. 5.] markt price =  8.0\n",
      "Production industry 1 at time 4: 3.0\n",
      "Production industry 2 at time 4: 5.0\n",
      "Sells of industries at time 4: [3, 3]\n",
      "Market at time 4: ['Satisfied', 'Exceded']\n"
     ]
    }
   ],
   "source": [
    "reputation_env = 0.5\n",
    "total_demand_env = 6\n",
    "env = CournotMarket(reputation = reputation_env, total_demand = total_demand_env, max_customer_price = 16, sensibility = 1)\n",
    "\n",
    "T = T_step\n",
    "\n",
    "run_active_inference_loop(my_agent1, my_agent2, env, T = T)"
   ]
  }
 ],
 "metadata": {
  "kernelspec": {
   "display_name": "base",
   "language": "python",
   "name": "python3"
  },
  "language_info": {
   "codemirror_mode": {
    "name": "ipython",
    "version": 3
   },
   "file_extension": ".py",
   "mimetype": "text/x-python",
   "name": "python",
   "nbconvert_exporter": "python",
   "pygments_lexer": "ipython3",
   "version": "3.11.7"
  }
 },
 "nbformat": 4,
 "nbformat_minor": 2
}
