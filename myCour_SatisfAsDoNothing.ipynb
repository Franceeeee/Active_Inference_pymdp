{
 "cells": [
  {
   "cell_type": "markdown",
   "metadata": {},
   "source": [
    "# Cournot duopoly"
   ]
  },
  {
   "cell_type": "markdown",
   "metadata": {},
   "source": [
    "**Context:** there a re two companies producing the same identical good for the same group of costumers. In particular, for each time istant each company has to decide how much of that good produce. Conversely at each time instant the group of consumer has to decide weather to buy or not as well as from which of the two company, eventually. Compines strive for maximization of profit.\n",
    "\n",
    "**Model:** the istance has been approached from the active inference perspective. Companies are modeled as agents which:\n",
    "- at each time step decide the quantity ($q_i$) of goods to produce \n",
    "- production costs $C(q_i)$ are fixed\n",
    "- Costumers decide the price according to a profit function $P(Q=q_1+q_2)$, which is unkown to the agents\n",
    "\n",
    "**Further assumptions:** these are minor assumptions in the code:\n",
    "- the total number of costumers is unkown to companies and fixed over time [variante: $~N(\\mu,\\sigma)$ per dare varianza all'agente]\n",
    "- the amount of good sold by the first company is handled through a \"reputation\" parameter ($\\in[0,1]$), higher it is higher the amount of good sold. The second company has (1-reputation) consumers.\n",
    "\n",
    "**Active Inference perspective:** What follow is a brief recap of the agents and environment design. The first observation to be made is about multy-agency perspective in active inference paradigm. Not having found examples about this specific case I imagined two agents acting through the same set of possible action in the same environment, in the same moments. In this view lies also the choice of the \"Cournot Duopoly\" example.\n",
    "Furthermore, for every company:\n",
    "\n",
    "- observation O={profit}; [attualmente sono sold_items le osservazioni... il ricavo è variabile... pensarci su]\n",
    "- states S={sold_item}; \n",
    "- actions U={how much do I produce};\n",
    "\n",
    "- Likelihood matrix A assumes a perfect perception:\n",
    "- Transition matric B assumes to sell less or equal to the amount produced, in an uninformative way; [magari considerare una campana]\n",
    "- Goal oriented priors C assumes the basic \"the more I sell, the more I gain\", assuming a selling price; [pensarci seriamente...]\n",
    "- Prior over stated D uninformative, I expect to see the market.\n",
    "\n",
    "Finally, the environment takes in input the amount produced by the two companies, elaborates the market price [che non viene mai usato!!!] and assigns to costumers the items according to the reputation. The output of the environment are sales data for both company. \n",
    "\n"
   ]
  },
  {
   "cell_type": "code",
   "execution_count": 175,
   "metadata": {},
   "outputs": [],
   "source": [
    "import numpy as np\n",
    "import matplotlib.pyplot as plt\n",
    "import seaborn as sns"
   ]
  },
  {
   "cell_type": "code",
   "execution_count": 176,
   "metadata": {},
   "outputs": [],
   "source": [
    "import pymdp\n",
    "from pymdp import utils"
   ]
  },
  {
   "cell_type": "markdown",
   "metadata": {},
   "source": [
    "## Problem initialization"
   ]
  },
  {
   "cell_type": "markdown",
   "metadata": {},
   "source": [
    "Dimensionalities of the hidden states factors, the control factors, and observation modalities"
   ]
  },
  {
   "cell_type": "code",
   "execution_count": null,
   "metadata": {},
   "outputs": [],
   "source": [
    "# Sales states (how much has been sold)\n",
    "Sales_1 =  np.array([0, 1, 2, 3, 4, 5])\n",
    "Sales_2 =  np.array([0, 1, 2, 3, 4, 5])\n",
    "\n",
    "# Market states (if I have produced enaugh or not)\n",
    "Market_1 = ['Produced excess', 'Produced right', 'Not produced enaugh']\n",
    "Market_2 = ['Produced excess', 'Produced right', 'Not produced enaugh']\n",
    "\n",
    "# number of states\n",
    "n_states_1 = [len(Sales_1), len(Market_1)]\n",
    "n_states_2 = [len(Sales_2), len(Market_2)]\n",
    "\n",
    "# number of factors\n",
    "n_factors_1 = len(n_states_1) #? capiamo\n",
    "n_factors_2 = len(n_states_2)\n",
    "\n",
    "# actions\n",
    "Production_1 =  np.array([0, 1, 2, 3, 4, 5])\n",
    "Production_2 =  np.array([0, 1, 2, 3, 4, 5])\n",
    "\n",
    "satisfy_market_action = ['Market survey']\n",
    "\n",
    "# observations of sales and market observations (satisfied costumer demand or not)\n",
    "obs_sales_1 = np.array([0, 1, 2, 3, 4, 5])\n",
    "obs_sales_2 = np.array([0, 1, 2, 3, 4, 5])\n",
    "\n",
    "obs_market_1 = ['Exceded', 'Satisfied', 'Unsatisfied'] \n",
    "obs_market_2 = ['Exceded', 'Satisfied', 'Unsatisfied']\n",
    "\n",
    "# number of observations and modalities\n",
    "num_obs_1 = [len(obs_sales_1), len(obs_market_1)]\n",
    "num_obs_2 = [len(obs_sales_2), len(obs_market_2)]\n",
    "\n",
    "num_modalities_1 = len(num_obs_1) \n",
    "num_modalities_2 = len(num_obs_2)"
   ]
  },
  {
   "cell_type": "markdown",
   "metadata": {},
   "source": [
    "## Agents initialization"
   ]
  },
  {
   "cell_type": "markdown",
   "metadata": {},
   "source": [
    "### Likelihood matrices"
   ]
  },
  {
   "cell_type": "code",
   "execution_count": 207,
   "metadata": {},
   "outputs": [],
   "source": [
    "A1 = utils.obj_array(num_modalities_1)\n",
    "A2 = utils.obj_array(num_modalities_2)"
   ]
  },
  {
   "cell_type": "markdown",
   "metadata": {},
   "source": [
    "Sales modality:"
   ]
  },
  {
   "cell_type": "code",
   "execution_count": 208,
   "metadata": {},
   "outputs": [],
   "source": [
    "# Oss.Vendite x State Sales x State Market\n",
    "# Tuttavia assumento perfetta percezione delle vendite il market non influisce.\n",
    "A1_sales = np.zeros((len(obs_sales_1), len(Sales_1), len(Market_1)))\n",
    "A2_sales = np.zeros((len(obs_sales_2), len(Sales_2), len(Market_2)))\n",
    "\n",
    "# modeling perfect perception of the sold items indipendently from the market state:\n",
    "for i in range(len(Market_1)):\n",
    "    A1_sales[:, :, i] = np.eye(len(Sales_1))\n",
    "\n",
    "for i in range(len(Market_2)):\n",
    "    A2_sales[:, :, i] = np.eye(len(Sales_2))\n"
   ]
  },
  {
   "cell_type": "code",
   "execution_count": 209,
   "metadata": {},
   "outputs": [],
   "source": [
    "A1[0] = A1_sales\n",
    "A2[0] = A2_sales"
   ]
  },
  {
   "cell_type": "markdown",
   "metadata": {},
   "source": [
    "Market modality:"
   ]
  },
  {
   "cell_type": "code",
   "execution_count": 210,
   "metadata": {},
   "outputs": [],
   "source": [
    "A1_market = np.zeros((len(obs_market_1), len(Sales_1), len(Market_1)))\n",
    "A2_market = np.zeros((len(obs_market_2), len(Sales_2), len(Market_2)))\n",
    "\n",
    "trust_market = 1.0 # 1 means perfect perception\n",
    "\n",
    "# Assign perception probabilities\n",
    "A1_market[0, :, 0] = trust_market           # exceded <- produced excess\n",
    "A1_market[1, :, 0] = (1 - trust_market)/2   # satisfied <- produced excess\n",
    "A1_market[2, :, 0] = (1 - trust_market)/2   # etc...\n",
    "A1_market[0, :, 1] = (1 - trust_market)/2\n",
    "A1_market[1, :, 1] = trust_market\n",
    "A1_market[2, :, 1] = (1 - trust_market)/2\n",
    "A1_market[0, :, 2] = (1 - trust_market)/2\n",
    "A1_market[1, :, 2] = (1 - trust_market)/2\n",
    "A1_market[2, :, 2] = trust_market\n",
    "\n",
    "A2_market[0, :, 0] = trust_market\n",
    "A2_market[1, :, 0] = (1 - trust_market)/2\n",
    "A2_market[2, :, 0] = (1 - trust_market)/2\n",
    "A2_market[0, :, 1] = (1 - trust_market)/2\n",
    "A2_market[1, :, 1] = trust_market\n",
    "A2_market[2, :, 1] = (1 - trust_market)/2\n",
    "A2_market[0, :, 2] = (1 - trust_market)/2\n",
    "A2_market[1, :, 2] = (1 - trust_market)/2\n",
    "A2_market[2, :, 2] = trust_market"
   ]
  },
  {
   "cell_type": "code",
   "execution_count": 211,
   "metadata": {},
   "outputs": [],
   "source": [
    "A1[1] = A1_market\n",
    "A2[1] = A2_market"
   ]
  },
  {
   "cell_type": "markdown",
   "metadata": {},
   "source": [
    "### Transition matrices"
   ]
  },
  {
   "cell_type": "code",
   "execution_count": 212,
   "metadata": {},
   "outputs": [],
   "source": [
    "B1 = utils.obj_array(n_factors_1)\n",
    "B2 = utils.obj_array(n_factors_2)"
   ]
  },
  {
   "cell_type": "markdown",
   "metadata": {},
   "source": [
    "B sales context:"
   ]
  },
  {
   "cell_type": "code",
   "execution_count": 213,
   "metadata": {},
   "outputs": [],
   "source": [
    "B1_sales = np.zeros((len(Sales_1), len(Sales_1), len(Production_1)))\n",
    "B2_sales = np.zeros((len(Sales_2), len(Sales_2), len(Production_2)))"
   ]
  },
  {
   "cell_type": "code",
   "execution_count": 214,
   "metadata": {},
   "outputs": [],
   "source": [
    "#completing agent1 transition matrix\n",
    "#for i in range(len(Production_1)):  # for every level of production \n",
    "for i in range(len(Production_1)):\n",
    "    for start_state in range(len(Sales_1)):  # Initial states of sales\n",
    "        max_sales = min(start_state, i)  # maximum sale is min(start_state, i)\n",
    "        \n",
    "        if max_sales >= 0:\n",
    "            B1_sales[:max_sales+1, start_state, i] = 1 / (max_sales + 1)  # uninformative distr.\n",
    "\n",
    "#completing agent2 transition matrix\n",
    "#for i in range(len(Production_2)):  # for every level of production\n",
    "for i in range(len(Production_2)):\n",
    "    for start_state in range(len(Sales_2)):  # Initial states of sales\n",
    "        max_sales = min(start_state, i)  # maximum sale is min(start_state, i)\n",
    "        \n",
    "        if max_sales >= 0:\n",
    "            B2_sales[:max_sales+1, start_state, i] = 1 / (max_sales + 1)  # uninformative distr."
   ]
  },
  {
   "cell_type": "code",
   "execution_count": 215,
   "metadata": {},
   "outputs": [],
   "source": [
    "B1[0] = B1_sales\n",
    "B2[0] = B2_sales"
   ]
  },
  {
   "cell_type": "markdown",
   "metadata": {},
   "source": [
    "B market context:"
   ]
  },
  {
   "cell_type": "code",
   "execution_count": 216,
   "metadata": {},
   "outputs": [],
   "source": [
    "B1_market = np.zeros((len(Market_1), len(Market_1), len(satisfy_market_action)))\n",
    "B2_market = np.zeros((len(Market_2), len(Market_2), len(satisfy_market_action)))\n",
    "\n",
    "#Adesso implemento con eye perchè la mia azione \"do nothing\" non può incidere sullo stato, ma boh capiamo\n",
    "B1_market[:,:,0] = np.eye(len(Market_1))\n",
    "B2_market[:,:,0] = np.eye(len(Market_2))"
   ]
  },
  {
   "cell_type": "code",
   "execution_count": 217,
   "metadata": {},
   "outputs": [],
   "source": [
    "B1[1] = B1_market\n",
    "B2[1] = B2_market"
   ]
  },
  {
   "cell_type": "markdown",
   "metadata": {},
   "source": [
    "### Goal oriented priors "
   ]
  },
  {
   "cell_type": "code",
   "execution_count": 218,
   "metadata": {},
   "outputs": [],
   "source": [
    "C1 = utils.obj_array_zeros(num_obs_1)\n",
    "C2 = utils.obj_array_zeros(num_obs_2)"
   ]
  },
  {
   "cell_type": "markdown",
   "metadata": {},
   "source": [
    "Profit oriented goals:"
   ]
  },
  {
   "cell_type": "code",
   "execution_count": 219,
   "metadata": {},
   "outputs": [],
   "source": [
    "consumer_price_1 = 10 # earning from a single piece\n",
    "production_price_1 = 5 # price of a single piece\n",
    "discount_rate_1 = 1 # the more I produce the less I pay\n",
    "\n",
    "C1[0] = np.array((consumer_price_1 - production_price_1 * discount_rate_1) * Production_1)\n",
    "#mmmmh se la scrivo come funzione con consmer_price = market price? Capiamo"
   ]
  },
  {
   "cell_type": "code",
   "execution_count": 220,
   "metadata": {},
   "outputs": [],
   "source": [
    "consumer_price_2 = 10 # earning from a single piece\n",
    "production_price_2 = 5 # price of a single piece\n",
    "discount_rate_2 = 1 # the more I produce the less I pay\n",
    "\n",
    "C2[0] = np.array((consumer_price_2 - production_price_2 * discount_rate_2) * Production_2)"
   ]
  },
  {
   "cell_type": "markdown",
   "metadata": {},
   "source": [
    "Market oriented goals:"
   ]
  },
  {
   "cell_type": "code",
   "execution_count": 221,
   "metadata": {},
   "outputs": [],
   "source": [
    "C1_market = np.zeros(len(obs_market_1))\n",
    "C1_market[0] = 0\n",
    "C1_market[1] = 10 \n",
    "C1_market[2] = -2\n",
    "\n",
    "C1[1] = C1_market"
   ]
  },
  {
   "cell_type": "code",
   "execution_count": 222,
   "metadata": {},
   "outputs": [],
   "source": [
    "C2_market = np.zeros(len(obs_market_2))\n",
    "C1_market[0] = 0\n",
    "C1_market[1] = 10 \n",
    "C1_market[2] = -2\n",
    "\n",
    "C2[1] = C2_market"
   ]
  },
  {
   "cell_type": "markdown",
   "metadata": {},
   "source": [
    "### States prior"
   ]
  },
  {
   "cell_type": "code",
   "execution_count": 223,
   "metadata": {},
   "outputs": [],
   "source": [
    "D1 = utils.obj_array(n_factors_1)\n",
    "D2 = utils.obj_array(n_factors_2)\n",
    "\n",
    "# Sales state prior\n",
    "D1[0] = np.full(len(Sales_1), 1 / len(Sales_1))\n",
    "D2[0] = np.full(len(Sales_2), 1 / len(Sales_2))\n",
    "\n",
    "# Market state prior\n",
    "D1[1] = np.full(len(Market_1), 1 / len(Market_1))\n",
    "D2[1] = np.full(len(Market_2), 1 / len(Market_2))"
   ]
  },
  {
   "cell_type": "markdown",
   "metadata": {},
   "source": [
    "### Agents construction"
   ]
  },
  {
   "cell_type": "code",
   "execution_count": 224,
   "metadata": {},
   "outputs": [],
   "source": [
    "from pymdp.agent import Agent\n",
    "\n",
    "my_agent1 = Agent(A = A1, B = B1, C = C1, D = D1)\n",
    "my_agent2 = Agent(A = A2, B = B2, C = C2, D = D2)"
   ]
  },
  {
   "cell_type": "markdown",
   "metadata": {},
   "source": [
    "## Generative process"
   ]
  },
  {
   "cell_type": "markdown",
   "metadata": {},
   "source": [
    "We shall create an environment able to elaborate the actions of the two agents and return an observation for both.\n",
    "\n",
    "Even if this is a first attempt and the agent expect only to see sales results, I'm already introducing the price function which determines the market price of the good given the joint production of the two agents. This is for sure to be integrated somehow somewhere."
   ]
  },
  {
   "cell_type": "code",
   "execution_count": 225,
   "metadata": {},
   "outputs": [],
   "source": [
    "class CournotMarket(object):\n",
    "\n",
    "    def __init__(self, reputation=0.5, total_demand=5, max_customer_price=10, sensibility=1):\n",
    "        self.reputation = float(reputation)\n",
    "        self.total_demand = float(total_demand)\n",
    "        self.max_customer_price = float(max_customer_price)\n",
    "        self.sensibility = float(sensibility)\n",
    "        self.market_obs_names = ['Satisfied', 'Exceded', 'Unsatisfied']\n",
    "    \n",
    "    def market_status(self, actual_production, preferred_demand):\n",
    "        if actual_production > preferred_demand:\n",
    "            return 'Exceded'\n",
    "        elif actual_production < preferred_demand:\n",
    "            return 'Unsatisfied'\n",
    "        else:\n",
    "            return 'Satisfied'\n",
    "\n",
    "    def step(self, action1, action2):\n",
    "        total_production = action1[0] + action2[0]\n",
    "        total_sell = min(self.total_demand, total_production)\n",
    "        \n",
    "        market_price = max(0, self.max_customer_price - self.sensibility * total_production)\n",
    "        \n",
    "        preferred_demand_1 = int(self.total_demand * self.reputation)\n",
    "        preferred_demand_2 = self.total_demand - preferred_demand_1\n",
    "        \n",
    "        actual_sales_1 = min(action1[0], preferred_demand_1)\n",
    "        actual_sales_2 = min(action2[0], preferred_demand_2)\n",
    "        \n",
    "        remaining_demand_1 = preferred_demand_1 - actual_sales_1\n",
    "        remaining_demand_2 = preferred_demand_2 - actual_sales_2\n",
    "        \n",
    "        if remaining_demand_1 > 0 and action2[0] > actual_sales_2:\n",
    "            extra_sales_2 = min(action2[0] - actual_sales_2, remaining_demand_1)\n",
    "            actual_sales_2 += extra_sales_2\n",
    "            remaining_demand_1 -= extra_sales_2\n",
    "        \n",
    "        if remaining_demand_2 > 0 and action1[0] > actual_sales_1:\n",
    "            extra_sales_1 = min(action1[0] - actual_sales_1, remaining_demand_2)\n",
    "            actual_sales_1 += extra_sales_1\n",
    "            remaining_demand_2 -= extra_sales_1\n",
    "        \n",
    "        obs_sales = [int(actual_sales_1), int(actual_sales_2)] \n",
    "        # obs_market = ['Exceded' if actual_sales_1 > preferred_demand_1 else ('Unsatisfied' if actual_sales_1 < preferred_demand_1 else 'Satisfied'),\n",
    "        #             'Exceded' if actual_sales_2 > preferred_demand_2 else ('Unsatisfied' if actual_sales_2 < preferred_demand_2 else 'Satisfied')]\n",
    "        obs_market = [self.market_status(action1[0], preferred_demand_1),\n",
    "                      self.market_status(action2[0], preferred_demand_2)]\n",
    "        return obs_sales, obs_market"
   ]
  },
  {
   "cell_type": "markdown",
   "metadata": {},
   "source": [
    "## Active Inference Loop"
   ]
  },
  {
   "cell_type": "markdown",
   "metadata": {},
   "source": [
    "Now let's write a function that takes the:\n",
    "- Agent\n",
    "- Environment \n",
    "- Time length\n",
    "and run the active inference loop"
   ]
  },
  {
   "cell_type": "code",
   "execution_count": 226,
   "metadata": {},
   "outputs": [],
   "source": [
    "def run_active_inference_loop(my_agent1, my_agent2, my_env, T = 5):\n",
    "    \"\"\"Initialize first observation\"\"\"\n",
    "    market_label = ['Exceded' ,'Satisfied', 'Unsatisfied']\n",
    "    obs1 = [5, obs_market_1.index(market_label[2])] #sales at T = -1 + market satisfaction <= come se dovessimo ancora produrre\n",
    "    obs2 = [3, obs_market_2.index(market_label[2])]\n",
    "\n",
    "    for t in range(T):\n",
    "        qs_1 = my_agent1.infer_states(obs1)\n",
    "        qs_2 = my_agent2.infer_states(obs2)\n",
    "\n",
    "        q_pi_1, efe_1 = my_agent1.infer_policies()\n",
    "        q_pi_2, efe_2 = my_agent2.infer_policies()\n",
    "\n",
    "        action_1 = my_agent1.sample_action()\n",
    "        action_2 = my_agent2.sample_action()\n",
    "\n",
    "        obs = my_env.step(action_1, action_2)\n",
    "        obs1 = [obs[0][0], obs_market_1.index(obs[1][0])]\n",
    "        obs2 = [obs[0][1], obs_market_1.index(obs[1][1])]\n",
    "\n",
    "        print(f'Production industry 1 at time {t}: {action_1[0]}')\n",
    "        print(f'Production industry 2 at time {t}: {action_2[0]}') \n",
    "        print(f'Sells of industries at time {t}: {obs[0]}')\n",
    "        print(f'Market at time {t}: {obs[1]}')\n"
   ]
  },
  {
   "cell_type": "markdown",
   "metadata": {},
   "source": [
    "## Main"
   ]
  },
  {
   "cell_type": "code",
   "execution_count": 227,
   "metadata": {},
   "outputs": [],
   "source": [
    "import warnings\n",
    "warnings.filterwarnings('ignore')"
   ]
  },
  {
   "cell_type": "code",
   "execution_count": 228,
   "metadata": {},
   "outputs": [
    {
     "name": "stdout",
     "output_type": "stream",
     "text": [
      "Production industry 1 at time 0: 5.0\n",
      "Production industry 2 at time 0: 3.0\n",
      "Sells of industries at time 0: [2, 2]\n",
      "Market at time 0: ['Exceded', 'Exceded']\n",
      "Production industry 1 at time 1: 5.0\n",
      "Production industry 2 at time 1: 3.0\n",
      "Sells of industries at time 1: [2, 2]\n",
      "Market at time 1: ['Exceded', 'Exceded']\n",
      "Production industry 1 at time 2: 2.0\n",
      "Production industry 2 at time 2: 2.0\n",
      "Sells of industries at time 2: [2, 2]\n",
      "Market at time 2: ['Satisfied', 'Satisfied']\n",
      "Production industry 1 at time 3: 2.0\n",
      "Production industry 2 at time 3: 2.0\n",
      "Sells of industries at time 3: [2, 2]\n",
      "Market at time 3: ['Satisfied', 'Satisfied']\n",
      "Production industry 1 at time 4: 2.0\n",
      "Production industry 2 at time 4: 2.0\n",
      "Sells of industries at time 4: [2, 2]\n",
      "Market at time 4: ['Satisfied', 'Satisfied']\n"
     ]
    }
   ],
   "source": [
    "reputation_env = 0.5\n",
    "total_demand_env = 4\n",
    "env = CournotMarket(reputation = reputation_env, total_demand = total_demand_env, max_customer_price = 100, sensibility = 1)\n",
    "\n",
    "T = 5\n",
    "\n",
    "run_active_inference_loop(my_agent1, my_agent2, env, T = T)"
   ]
  }
 ],
 "metadata": {
  "kernelspec": {
   "display_name": "base",
   "language": "python",
   "name": "python3"
  },
  "language_info": {
   "codemirror_mode": {
    "name": "ipython",
    "version": 3
   },
   "file_extension": ".py",
   "mimetype": "text/x-python",
   "name": "python",
   "nbconvert_exporter": "python",
   "pygments_lexer": "ipython3",
   "version": "3.11.7"
  }
 },
 "nbformat": 4,
 "nbformat_minor": 2
}
