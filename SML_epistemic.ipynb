{
 "cells": [
  {
   "cell_type": "code",
   "execution_count": 1506,
   "metadata": {},
   "outputs": [],
   "source": [
    "import random\n",
    "import numpy as np\n",
    "\n",
    "random.seed(42)\n",
    "np.random.seed(42)\n",
    "\n",
    "import numpy as np\n",
    "import matplotlib.pyplot as plt\n",
    "import seaborn as sns\n",
    "\n",
    "import pymdp\n",
    "from pymdp import utils"
   ]
  },
  {
   "cell_type": "markdown",
   "metadata": {},
   "source": [
    "# Utilities"
   ]
  },
  {
   "cell_type": "code",
   "execution_count": 1507,
   "metadata": {},
   "outputs": [],
   "source": [
    "def noisy_Id(n, noise, decay=3):\n",
    "\n",
    "    I = np.eye(n)\n",
    "    for i in range(n):\n",
    "        for j in range(n):\n",
    "            if i != j:\n",
    "                I[i, j] = (noise / n) * np.exp(-abs(i - j) / decay)\n",
    "    I /= I.sum(axis=0, keepdims=True)\n",
    "    return I"
   ]
  },
  {
   "cell_type": "code",
   "execution_count": 1508,
   "metadata": {},
   "outputs": [],
   "source": [
    "def gain(market_price, prod_cost, Production):\n",
    "    profit_production = np.array([x for x in Production if isinstance(x, (int, float))])\n",
    "    if profit_production.size == 0:  # Ensure Production has valid numeric elements\n",
    "        return np.array([])  # Return an empty array if no valid data\n",
    "\n",
    "    n_sells = max(profit_production)\n",
    "    C_gain = (market_price - prod_cost) * profit_production - np.maximum(0, (profit_production - n_sells)) * market_price\n",
    "    \n",
    "    # # Add the mean value as the last element\n",
    "    # C_gain = np.append(C_gain, np.mean(C_gain))  \n",
    "    \n",
    "    return C_gain"
   ]
  },
  {
   "cell_type": "code",
   "execution_count": 1509,
   "metadata": {},
   "outputs": [],
   "source": [
    "def real_gain(market_price, prod_cost, n_sells, Production):\n",
    "    C_gain = (market_price-prod_cost)*Production - np.maximum(0,(Production-n_sells))*market_price\n",
    "    return C_gain"
   ]
  },
  {
   "cell_type": "code",
   "execution_count": 1510,
   "metadata": {},
   "outputs": [],
   "source": [
    "def gain_SRP(SRP_model, prod_cost, n_sells, Production, sales_competitor):\n",
    "    # Assume Production is a numpy array of production levels\n",
    "    profit_production = np.array([x for x in Production if isinstance(x, (int, float))])\n",
    "    gains = []\n",
    "    for prod in profit_production:\n",
    "        # Create a feature dictionary for each instance.\n",
    "        # Adjust the key names according to your feature naming.\n",
    "        instance = {\n",
    "            'prod_1': prod,\n",
    "            'prod_2': sales_competitor,\n",
    "        }\n",
    "        # Predict the market price for this instance.\n",
    "        predicted_price = SRP_model.predict_one(instance)\n",
    "        # Compute the gain for this production level.\n",
    "        c_gain = (predicted_price - prod_cost) * prod - np.maximum(0, (prod - n_sells)) * predicted_price #!!!!\n",
    "        gains.append(c_gain)\n",
    "    # # Add a last element containing the mean of the previously computed elements\n",
    "    # if gains:  # Ensure the list is not empty before computing the mean\n",
    "    #     gains.append(np.mean(gains))\n",
    "    return np.array(gains)"
   ]
  },
  {
   "cell_type": "code",
   "execution_count": 1511,
   "metadata": {},
   "outputs": [],
   "source": [
    "from river.metrics.base import Metrics\n",
    "from river.metrics import RMSE\n",
    "from river.preprocessing import StandardScaler\n",
    "from river.drift import ADWIN\n",
    "from river.ensemble import SRPRegressor\n",
    "from river.tree import HoeffdingTreeRegressor\n",
    "\n",
    "SRP_1 = (StandardScaler() |\n",
    "        SRPRegressor(\n",
    "            n_models=10,\n",
    "            seed=1,\n",
    "            drift_detector=ADWIN(delta=0.001),\n",
    "            warning_detector=ADWIN(delta=0.01),\n",
    "            model = HoeffdingTreeRegressor(\n",
    "                grace_period=50,\n",
    "                leaf_prediction='adaptive',\n",
    "                model_selector_decay=0.9,                \n",
    "            )            \n",
    "        ))\n",
    "\n",
    "SRP_2 = (StandardScaler() |\n",
    "        SRPRegressor(\n",
    "            n_models=10,\n",
    "            seed=1,\n",
    "            drift_detector=ADWIN(delta=0.001),\n",
    "            warning_detector=ADWIN(delta=0.01),\n",
    "            model = HoeffdingTreeRegressor(\n",
    "                grace_period=50,\n",
    "                leaf_prediction='adaptive',\n",
    "                model_selector_decay=0.9,                \n",
    "            )            \n",
    "        ))"
   ]
  },
  {
   "cell_type": "code",
   "execution_count": 1512,
   "metadata": {},
   "outputs": [],
   "source": [
    "def get_most_probable_indices(qs):\n",
    "    return [np.argmax(q) for q in qs]"
   ]
  },
  {
   "cell_type": "markdown",
   "metadata": {},
   "source": [
    "# O, S, U"
   ]
  },
  {
   "cell_type": "code",
   "execution_count": 1513,
   "metadata": {},
   "outputs": [],
   "source": [
    "n_action = 10\n",
    "\n",
    "#States (how much I think I can sell)\n",
    "state_sales_1 = np.arange(0, n_action)\n",
    "state_sales_2 = np.arange(0, n_action)\n",
    "\n",
    "#Other's states\n",
    "other_state_1 = np.arange(0, n_action)\n",
    "other_state_2 = np.arange(0, n_action)\n",
    "\n",
    "# Market states (if I have produced enaugh or not)\n",
    "epistemic_state_1 = ['Epistemic', 'Profit']\n",
    "epistemic_state_2 = ['Epistemic', 'Profit']\n",
    "\n",
    "#Number of states\n",
    "n_states_1 = [len(state_sales_1), len(other_state_1), len(epistemic_state_1)]\n",
    "n_states_2 = [len(state_sales_2), len(other_state_2), len(epistemic_state_2)]\n",
    "\n",
    "# number of factors\n",
    "n_factors_1 = len(n_states_1) \n",
    "n_factors_2 = len(n_states_2)\n",
    "\n",
    "# actions\n",
    "Production_1 =  list(range(n_action)) + ['market_analysis']\n",
    "Production_2 =  list(range(n_action)) + ['market_analysis']\n",
    "\n",
    "observe_others = ['observe']\n",
    "\n",
    "epistemic_check = ['epistemic action', 'profit action']\n",
    "\n",
    "num_controls_1 = [len(Production_1), len(observe_others), len(epistemic_check)]\n",
    "num_controls_2 = [len(Production_2), len(observe_others), len(epistemic_check)]\n",
    "\n",
    "#observations\n",
    "obs_sales_1 = np.arange(0, n_action)\n",
    "obs_sales_2 = np.arange(0, n_action)\n",
    "\n",
    "obs_other_sales_1 = np.arange(0, n_action)\n",
    "obs_other_sales_2 = np.arange(0, n_action)\n",
    "\n",
    "obs_epistemic_1 = ['Epistemic', 'Profit'] \n",
    "obs_epistemic_2 = ['Epistemic', 'Profit']\n",
    "\n",
    "# number of observations and modalities\n",
    "num_obs_1 = [len(obs_sales_1), len(obs_other_sales_1), len(obs_epistemic_1)]\n",
    "num_obs_2 = [len(obs_sales_2), len(obs_other_sales_2), len(obs_epistemic_2)]\n",
    "\n",
    "num_modalities_1 = len(num_obs_1) \n",
    "num_modalities_2 = len(num_obs_2)"
   ]
  },
  {
   "cell_type": "code",
   "execution_count": 1514,
   "metadata": {},
   "outputs": [
    {
     "data": {
      "text/plain": [
       "[0, 1, 2, 3, 4, 5, 6, 7, 8, 9, 'market_analysis']"
      ]
     },
     "execution_count": 1514,
     "metadata": {},
     "output_type": "execute_result"
    }
   ],
   "source": [
    "Production_1"
   ]
  },
  {
   "cell_type": "code",
   "execution_count": 1515,
   "metadata": {},
   "outputs": [
    {
     "name": "stdout",
     "output_type": "stream",
     "text": [
      "Best response for industry 1: 5.0\n",
      "Best response for industry 2: 5.0\n"
     ]
    }
   ],
   "source": [
    "production_cost_1 = 5\n",
    "production_cost_2 = 5\n",
    "max_customer_price = 20\n",
    "sensibility = 1\n",
    "BR_1 = min(n_action-1, (max_customer_price - 2 * production_cost_1 + production_cost_2) / (3*sensibility))\n",
    "BR_2 = min(n_action-1, (max_customer_price - 2 * production_cost_2 + production_cost_1) / (3*sensibility))\n",
    "BR_1_idx = round(BR_1)\n",
    "BR_2_idx = round(BR_2)\n",
    "print(f'Best response for industry 1: {BR_1}')\n",
    "print(f'Best response for industry 2: {BR_2}')"
   ]
  },
  {
   "cell_type": "markdown",
   "metadata": {},
   "source": [
    "# A"
   ]
  },
  {
   "cell_type": "code",
   "execution_count": 1516,
   "metadata": {},
   "outputs": [],
   "source": [
    "A1 = utils.obj_array(num_modalities_1)\n",
    "A2 = utils.obj_array(num_modalities_2)"
   ]
  },
  {
   "cell_type": "markdown",
   "metadata": {},
   "source": [
    "### A_sales"
   ]
  },
  {
   "cell_type": "code",
   "execution_count": 1517,
   "metadata": {},
   "outputs": [],
   "source": [
    "# Sales obs x State Sales\n",
    "A1_sales = np.zeros((len(obs_sales_1), len(state_sales_1), len(other_state_1), len(epistemic_state_1)))\n",
    "A2_sales = np.zeros((len(obs_sales_2), len(state_sales_2), len(other_state_1), len(epistemic_state_2)))\n"
   ]
  },
  {
   "cell_type": "code",
   "execution_count": 1518,
   "metadata": {},
   "outputs": [],
   "source": [
    "for k, state in enumerate(epistemic_state_1):\n",
    "    if state == 'Epistemic':\n",
    "       A1_sales[BR_1_idx, :, :, k] = 1 \n",
    "    if state == 'Profit':\n",
    "        for j in range(len(other_state_1)):\n",
    "            A1_sales[:, :, j, k] = noisy_Id(len(obs_sales_1), 0.1)\n",
    "\n",
    "for k, state in enumerate(epistemic_state_2):\n",
    "    if state == 'Epistemic':\n",
    "       A2_sales[BR_2_idx, :, :, k] = 1 \n",
    "    if state == 'Profit':\n",
    "        for j in range(len(other_state_2)):\n",
    "            A2_sales[:, :, j, k] = noisy_Id(len(obs_sales_2), 0.1)\n",
    "\n",
    "A1[0] = A1_sales\n",
    "A2[0] = A2_sales"
   ]
  },
  {
   "cell_type": "markdown",
   "metadata": {},
   "source": [
    "### A_other"
   ]
  },
  {
   "cell_type": "code",
   "execution_count": 1519,
   "metadata": {},
   "outputs": [],
   "source": [
    "A1_other = np.zeros((len(obs_other_sales_1), len(state_sales_1), len(other_state_1), len(epistemic_state_1)))\n",
    "A2_other = np.zeros((len(obs_other_sales_2), len(state_sales_2), len(other_state_2), len(epistemic_state_2)))"
   ]
  },
  {
   "cell_type": "code",
   "execution_count": 1520,
   "metadata": {},
   "outputs": [],
   "source": [
    "for k, state in enumerate(epistemic_state_1):\n",
    "    if state == 'Epistemic':\n",
    "       for j in range(len(state_sales_1)):\n",
    "          A1_other[:, j, :, k] = noisy_Id(len(obs_other_sales_1), 0.5) \n",
    "    if state == 'Profit':\n",
    "        for j in range(len(state_sales_1)):\n",
    "            A1_other[:, j, :, k] = np.eye(len(obs_other_sales_1))\n",
    "\n",
    "for k, state in enumerate(epistemic_state_2):\n",
    "    if state == 'Epistemic':\n",
    "       for j in range(len(state_sales_2)):\n",
    "          A2_other[:, j, :, k] = noisy_Id(len(obs_other_sales_2), 0.5)  \n",
    "    if state == 'Profit':\n",
    "        for j in range(len(state_sales_1)):\n",
    "            A2_other[:, j, :, k] = np.eye(len(obs_other_sales_2))\n",
    "\n",
    "A1[1] = A1_other\n",
    "A2[1] = A2_other"
   ]
  },
  {
   "cell_type": "markdown",
   "metadata": {},
   "source": [
    "### A_epist"
   ]
  },
  {
   "cell_type": "code",
   "execution_count": 1521,
   "metadata": {},
   "outputs": [],
   "source": [
    "A1_epist = np.zeros((len(obs_epistemic_1), len(state_sales_1), len(other_state_1), len(epistemic_state_1)))\n",
    "A2_epist = np.zeros((len(obs_epistemic_2), len(state_sales_2), len(other_state_2), len(epistemic_state_2)))"
   ]
  },
  {
   "cell_type": "code",
   "execution_count": 1522,
   "metadata": {},
   "outputs": [],
   "source": [
    "for i in range(len(state_sales_1)):\n",
    "    for j in range(len(other_state_1)):\n",
    "        A1_epist[:, i, j, :] = np.eye(len(obs_epistemic_1)) \n",
    "\n",
    "for i in range(len(state_sales_2)):\n",
    "    for j in range(len(other_state_2)):\n",
    "        A2_epist[:, i, j, :] = np.eye(len(obs_epistemic_2)) \n",
    "\n",
    "A1[2] = A1_epist\n",
    "A2[2] = A2_epist"
   ]
  },
  {
   "cell_type": "markdown",
   "metadata": {},
   "source": [
    "# B"
   ]
  },
  {
   "cell_type": "code",
   "execution_count": 1523,
   "metadata": {},
   "outputs": [],
   "source": [
    "B1 = utils.obj_array(n_factors_1)\n",
    "B2 = utils.obj_array(n_factors_2)"
   ]
  },
  {
   "cell_type": "markdown",
   "metadata": {},
   "source": [
    "### B_sales"
   ]
  },
  {
   "cell_type": "code",
   "execution_count": 1524,
   "metadata": {},
   "outputs": [],
   "source": [
    "B1_sales = np.zeros((len(state_sales_1), len(state_sales_1), len(Production_1)))\n",
    "B2_sales = np.zeros((len(state_sales_2), len(state_sales_2), len(Production_2)))\n",
    "\n",
    "#I can sell as much as I produce (potentially) independently from previous sales\n",
    "for i in range(len(Production_1)):\n",
    "    if isinstance(Production_1[i], str) and Production_1[i] == 'market_analysis':\n",
    "        # Se si tratta di 'market_analysis', imposta la prima riga a 1\n",
    "        B1_sales[:, :, i] = 0\n",
    "        B1_sales[0, :, i] = 1\n",
    "    else:\n",
    "        # Caso normale (valori numerici)\n",
    "        for end_state in range(len(state_sales_1)):\n",
    "            if end_state <= i:\n",
    "                B1_sales[end_state, :, i] = 1 / (i + 1)\n",
    "\n",
    "#completing agent2 transition matrix\n",
    "for i in range(len(Production_2)):\n",
    "    if isinstance(Production_2[i], str) and Production_2[i] == 'market_analysis':\n",
    "        # Se si tratta di 'market_analysis', imposta la prima riga a 1\n",
    "        B2_sales[:, :, i] = 0\n",
    "        B2_sales[0, :, i] = 1\n",
    "    else:\n",
    "        # Caso normale (valori numerici)\n",
    "        for end_state in range(len(state_sales_2)):\n",
    "            if end_state <= i:\n",
    "                B2_sales[end_state, :, i] = 1 / (i + 1)\n",
    "\n",
    "B1[0] = B1_sales\n",
    "B2[0] = B2_sales"
   ]
  },
  {
   "cell_type": "markdown",
   "metadata": {},
   "source": [
    "### B_other"
   ]
  },
  {
   "cell_type": "code",
   "execution_count": 1525,
   "metadata": {},
   "outputs": [],
   "source": [
    "B1_other = np.zeros((len(other_state_1), len(other_state_1), len(observe_others)))\n",
    "B2_other = np.zeros((len(other_state_2), len(other_state_2), len(observe_others)))"
   ]
  },
  {
   "cell_type": "markdown",
   "metadata": {},
   "source": [
    "Partiamo dal presupposto che il comportamento dell'avversario e le sue possibilità di vendita mi siano completamente oscure. Sfruttando la possibilità di aggiornare B posso pensare di captare qualche sorta di schema comportamentale. B_other è fondamentale per cercare di prevedere la prossima azione del mio competitor. L'idea è di fare una previsione sul prezzo di mercato facendo sampling dalle posterior degli stati."
   ]
  },
  {
   "cell_type": "code",
   "execution_count": 1526,
   "metadata": {},
   "outputs": [],
   "source": [
    "B1_other[:, :, 0] = 1/len(other_state_1)\n",
    "B2_other[:, :, 0] = 1/len(other_state_2)\n",
    "\n",
    "B1[1] = B1_other\n",
    "B2[1] = B2_other"
   ]
  },
  {
   "cell_type": "markdown",
   "metadata": {},
   "source": [
    "### B_epist"
   ]
  },
  {
   "cell_type": "code",
   "execution_count": 1527,
   "metadata": {},
   "outputs": [],
   "source": [
    "B1_epist = np.zeros((len(epistemic_state_1), len(epistemic_state_1), len(epistemic_check)))\n",
    "B2_epist = np.zeros((len(epistemic_state_2), len(epistemic_state_2), len(epistemic_check)))\n",
    "\n",
    "for i, check in enumerate(epistemic_check):\n",
    "    if check == 'epistemic action':\n",
    "        # Se l'azione si tratta di 'market_analysis', allora andrò sicuramente in uno stato epistemico\n",
    "        B1_epist[0,:,i] = 1\n",
    "    else:\n",
    "        B1_epist[1,:,i] = 1\n",
    "\n",
    "for i, check in enumerate(epistemic_check):\n",
    "    if check == 'epistemic action':\n",
    "        # Se l'azione si tratta di 'market_analysis', allora andrò sicuramente in uno stato epistemico\n",
    "        B2_epist[0,:,i] = 1\n",
    "    else:\n",
    "        B2_epist[1,:,i] = 1\n",
    "\n",
    "B1[2] = B1_epist\n",
    "B2[2] = B2_epist"
   ]
  },
  {
   "cell_type": "markdown",
   "metadata": {},
   "source": [
    "# C"
   ]
  },
  {
   "cell_type": "code",
   "execution_count": 1528,
   "metadata": {},
   "outputs": [],
   "source": [
    "C1 = utils.obj_array_zeros(num_obs_1)\n",
    "C2 = utils.obj_array_zeros(num_obs_2)"
   ]
  },
  {
   "cell_type": "markdown",
   "metadata": {},
   "source": [
    "### C_gain"
   ]
  },
  {
   "cell_type": "code",
   "execution_count": 1529,
   "metadata": {},
   "outputs": [],
   "source": [
    "assumed_market_price_1 = 10\n",
    "assumed_market_price_2 = 10"
   ]
  },
  {
   "cell_type": "code",
   "execution_count": 1530,
   "metadata": {},
   "outputs": [],
   "source": [
    "# Profit_production_1 = np.array([x for x in Production_1 if isinstance(x, (int, float))])\n",
    "# Profit_production_2 = np.array([x for x in Production_2 if isinstance(x, (int, float))])"
   ]
  },
  {
   "cell_type": "code",
   "execution_count": 1531,
   "metadata": {},
   "outputs": [],
   "source": [
    "# C_gain_1 = gain(market_price=assumed_market_price_1, prod_cost=production_cost_1, n_sells=max(Profit_production_1), Production=Profit_production_1)\n",
    "# C_gain_2 = gain(market_price=assumed_market_price_2, prod_cost=production_cost_2, n_sells=max(Profit_production_2), Production=Profit_production_2)\n",
    "\n",
    "# C1[0] = C_gain_1\n",
    "# C2[0] = C_gain_2"
   ]
  },
  {
   "cell_type": "code",
   "execution_count": 1532,
   "metadata": {},
   "outputs": [],
   "source": [
    "C_gain_1 = gain(market_price=assumed_market_price_1, prod_cost=production_cost_1, Production=Production_1)\n",
    "C_gain_2 = gain(market_price=assumed_market_price_2, prod_cost=production_cost_2, Production=Production_2)\n",
    "\n",
    "C1[0] = C_gain_1\n",
    "C2[0] = C_gain_2"
   ]
  },
  {
   "cell_type": "markdown",
   "metadata": {},
   "source": [
    "### C_other"
   ]
  },
  {
   "cell_type": "code",
   "execution_count": 1533,
   "metadata": {},
   "outputs": [],
   "source": [
    "C1_other = np.zeros(len(obs_other_sales_1))\n",
    "C2_other = np.zeros(len(obs_other_sales_2))\n",
    "\n",
    "C1[1] = C1_other\n",
    "C2[1] = C2_other"
   ]
  },
  {
   "cell_type": "markdown",
   "metadata": {},
   "source": [
    "### C_epist"
   ]
  },
  {
   "cell_type": "code",
   "execution_count": 1534,
   "metadata": {},
   "outputs": [],
   "source": [
    "C1_epist = np.zeros(len(obs_epistemic_1))\n",
    "C2_epist = np.zeros(len(obs_epistemic_2))\n",
    "\n",
    "C1[2] = C1_epist\n",
    "C2[2] = C2_epist"
   ]
  },
  {
   "cell_type": "markdown",
   "metadata": {},
   "source": [
    "# D"
   ]
  },
  {
   "cell_type": "code",
   "execution_count": 1535,
   "metadata": {},
   "outputs": [],
   "source": [
    "D1 = utils.obj_array(n_factors_1)\n",
    "D2 = utils.obj_array(n_factors_2)\n",
    "\n",
    "# Sales state prior\n",
    "D1[0] = np.full(len(state_sales_1), 1 / len(state_sales_1))\n",
    "D2[0] = np.full(len(state_sales_2), 1 / len(state_sales_2))\n",
    "\n",
    "# other state prior\n",
    "D1[1] = np.full(len(other_state_1), 1 / len(other_state_1))\n",
    "D2[1] = np.full(len(other_state_2), 1 / len(other_state_2))\n",
    "\n",
    "# epistemic state prior\n",
    "D1[2] = np.full(len(epistemic_state_1), 1 / len(epistemic_state_1)) \n",
    "D2[2] = np.full(len(epistemic_state_2), 1 / len(epistemic_state_2))"
   ]
  },
  {
   "cell_type": "markdown",
   "metadata": {},
   "source": [
    "# Agent"
   ]
  },
  {
   "cell_type": "code",
   "execution_count": 1536,
   "metadata": {},
   "outputs": [],
   "source": [
    "B1_prior = utils.dirichlet_like(B1)\n",
    "B2_prior = utils.dirichlet_like(B2)"
   ]
  },
  {
   "cell_type": "code",
   "execution_count": 1537,
   "metadata": {},
   "outputs": [],
   "source": [
    "from pymdp.agent import Agent\n",
    "\n",
    "my_agent1 = Agent(A = A1, B = B1, C = C1, D = D1, policy_len=1,\n",
    "                    use_states_info_gain = False, #True di default\n",
    "                    use_param_info_gain = True, #False di default\n",
    "                    num_controls = num_controls_1, \n",
    "                    action_selection='deterministic', alpha = 16, \n",
    "                    pA = None, lr_pA=1.0, modalities_to_learn=\"all\",\n",
    "                    pB = B1_prior, lr_pB=0.5, pD = None, lr_pD=1.0, factors_to_learn='all')\n",
    "my_agent2 = Agent(A = A2, B = B2, C = C2, D = D2, policy_len=1,\n",
    "                    use_states_info_gain = False, #True di default\n",
    "                    use_param_info_gain = True, #False di default\n",
    "                    num_controls = num_controls_2, \n",
    "                    action_selection='deterministic', alpha = 16,\n",
    "                    pA = None, lr_pA=1.0, modalities_to_learn=\"all\",\n",
    "                    pB = B1_prior, lr_pB=0.5, pD = None, lr_pD=1.0, factors_to_learn='all')"
   ]
  },
  {
   "cell_type": "markdown",
   "metadata": {},
   "source": [
    "# Environment"
   ]
  },
  {
   "cell_type": "code",
   "execution_count": 1538,
   "metadata": {},
   "outputs": [],
   "source": [
    "class CournotMarket(object):\n",
    "\n",
    "    def __init__(self, reputation=0.5, total_demand=5, max_customer_price=10, sensibility=1):\n",
    "        self.reputation = float(reputation)\n",
    "        self.total_demand = float(total_demand)\n",
    "        self.max_customer_price = float(max_customer_price)\n",
    "        self.sensibility = float(sensibility)\n",
    "    \n",
    "    def is_epistemic(self, action):\n",
    "        if action == 10: #10 perchè è l'indice di marke analysis, i.e. azione epistemica\n",
    "            action = 0\n",
    "            return action, 'Epistemic'\n",
    "        else:\n",
    "            return action, 'Profit'\n",
    "\n",
    "    def step(self, action1, action2):\n",
    "        action1[0], epistemic1 = self.is_epistemic(action1[0])\n",
    "        action2[0], epistemic2 = self.is_epistemic(action2[0])\n",
    "        total_production = action1[0] + action2[0]\n",
    "        \n",
    "        market_price = max(0, self.max_customer_price - self.sensibility * total_production)\n",
    "        \n",
    "        preferred_demand_1 = int(self.total_demand * self.reputation)\n",
    "        preferred_demand_2 = self.total_demand - preferred_demand_1\n",
    "        \n",
    "        actual_sales_1 = min(action1[0], preferred_demand_1)\n",
    "        actual_sales_2 = min(action2[0], preferred_demand_2)\n",
    "        \n",
    "        remaining_demand_1 = preferred_demand_1 - actual_sales_1\n",
    "        remaining_demand_2 = preferred_demand_2 - actual_sales_2\n",
    "        \n",
    "        if remaining_demand_1 > 0 and action2[0] > actual_sales_2:\n",
    "            extra_sales_2 = min(action2[0] - actual_sales_2, remaining_demand_1)\n",
    "            actual_sales_2 += extra_sales_2\n",
    "            remaining_demand_1 -= extra_sales_2\n",
    "        \n",
    "        if remaining_demand_2 > 0 and action1[0] > actual_sales_1:\n",
    "            extra_sales_1 = min(action1[0] - actual_sales_1, remaining_demand_2)\n",
    "            actual_sales_1 += extra_sales_1\n",
    "            remaining_demand_2 -= extra_sales_1\n",
    "        \n",
    "        obs_sales = [int(actual_sales_1), int(actual_sales_2)] \n",
    "        h_obs_prod = [int(action1[0]), int(action2[0])] #hidden per tutti, lo ritorno solo per i plot\n",
    "        obs_epistemic = [epistemic1, epistemic2]\n",
    "        return obs_sales, obs_epistemic, market_price, h_obs_prod"
   ]
  },
  {
   "cell_type": "markdown",
   "metadata": {},
   "source": [
    "# Loop"
   ]
  },
  {
   "cell_type": "code",
   "execution_count": 1539,
   "metadata": {},
   "outputs": [],
   "source": [
    "prod1 = []\n",
    "prod2 = []\n",
    "epistemic_choice1 = []\n",
    "epistemic_choice2 = []\n",
    "\n",
    "sold1 = []\n",
    "sold2 = []\n",
    "\n",
    "real_price =[]\n",
    "predicted_price1 = []\n",
    "predicted_price2 = []\n",
    "\n",
    "Belief_gain1 =[]\n",
    "real_gain1 = []\n",
    "BR1_real_gain = []\n",
    "\n",
    "Belief_gain2 =[]    \n",
    "real_gain2 = []\n",
    "BR2_real_gain = []"
   ]
  },
  {
   "cell_type": "code",
   "execution_count": 1540,
   "metadata": {},
   "outputs": [],
   "source": [
    "def run_active_inference_loop(my_agent1, my_agent2, my_env, BR_1, BR_2, T=5, \n",
    "                              initial_alpha=0.05, final_alpha=0.2):\n",
    "    \"\"\"Runs an active inference loop where alpha increases over time.\"\"\"\n",
    "\n",
    "    market_price = assumed_market_price_1\n",
    "    epistemic_label = ['Epistemic', 'Profit']\n",
    "    obs1 = [0, 0, epistemic_state_1.index(epistemic_label[0])] \n",
    "    obs2 = [0, 0, epistemic_state_2.index(epistemic_label[0])]\n",
    "\n",
    "    for t in range(T):\n",
    "        # Linear schedule for alpha increase\n",
    "        alpha_range = final_alpha - initial_alpha\n",
    "        my_agent1.alpha = initial_alpha + (alpha_range * t / (T - 1))\n",
    "        my_agent2.alpha = initial_alpha + (alpha_range * t / (T - 1))\n",
    "\n",
    "        # Agents infer hidden states !!!! da qui la previsione per la prossima azione di dell'avversario\n",
    "        qs_1 = my_agent1.infer_states(obs1)\n",
    "        qs_2 = my_agent2.infer_states(obs2)\n",
    "\n",
    "\n",
    "        supposed_states_1 = get_most_probable_indices(qs_1)\n",
    "        supposed_sale_states_1 = supposed_states_1[0:2]\n",
    "        supposed_states_2 = get_most_probable_indices(qs_2)\n",
    "        supposed_sales_states_2 = supposed_states_2[0:2]\n",
    "\n",
    "        # print(f\"Agent 1: {supposed_sale_states_1}\")\n",
    "        # print(f\"my state: {supposed_sale_states_1[0]}\")\n",
    "        # print(f\"my state: {supposed_sale_states_1[1]}\")\n",
    "\n",
    "\n",
    "        instance1 = {f\"prod_{i}\": v for i, v in enumerate(supposed_sale_states_1)}\n",
    "        instance2 = {f\"prod_{i}\": v for i, v in enumerate(supposed_sales_states_2)}\n",
    "\n",
    "        price_hat_1 = SRP_1.predict_one(instance1)\n",
    "        price_hat_2 = SRP_2.predict_one(instance2)\n",
    "\n",
    "        # Update preference distribution (C matrix) using a custom gain function\n",
    "        my_agent1.C[0] = gain_SRP(SRP_1, prod_cost=production_cost_1, n_sells=supposed_sale_states_1[0], \n",
    "                                  Production=Production_1, sales_competitor=supposed_sale_states_1[1])\n",
    "        my_agent2.C[0] = gain_SRP(SRP_2, prod_cost=production_cost_2, n_sells=supposed_sales_states_2[0], \n",
    "                                  Production=Production_2, sales_competitor=supposed_sales_states_2[1])\n",
    "        \n",
    "        print('len C',len(my_agent1.C[0]))\n",
    "        print('C',my_agent1.C[0])\n",
    "        print('c_boh', my_agent1.C[0][9])\n",
    "        \n",
    "\n",
    "        # Infer policies\n",
    "        q_pi_1, efe_1 = my_agent1.infer_policies()\n",
    "        q_pi_2, efe_2 = my_agent2.infer_policies()\n",
    "\n",
    "        # Sample actions based on stochastic policy selection\n",
    "        action_1 = my_agent1.sample_action()\n",
    "        action_2 = my_agent2.sample_action()\n",
    "\n",
    "        # Environment step\n",
    "        obs_sales, obs_epistemic, market_price, h_obs_prod = my_env.step(action_1, action_2)\n",
    "        BR1_obs_sales, BR1_obs_epistemic, BR1_market_price, BR1_h_obs_prod = my_env.step([round(BR_1)], action_2)\n",
    "        BR2_obs_sales, BR1_obs_epistemic, BR2_market_price, BR2_h_obs_prod = my_env.step(action_1, [round(BR_2)])\n",
    "\n",
    "        instance = {f\"prod_{i}\": v for i, v in enumerate(obs_sales)}\n",
    "\n",
    "        SRP_1.learn_one(instance, market_price)\n",
    "        SRP_2.learn_one(instance, market_price)\n",
    "\n",
    "        # Update observations\n",
    "        obs1 = [obs_sales[0], obs_sales[1], epistemic_state_1.index(obs_epistemic[0])]\n",
    "        obs2 = [obs_sales[1], obs_sales[0], epistemic_state_2.index(obs_epistemic[1])]\n",
    "\n",
    "        prod1.append(h_obs_prod[0])\n",
    "        epistemic_choice1.append(obs_epistemic[0])\n",
    "        prod2.append(h_obs_prod[1])\n",
    "        epistemic_choice2.append(obs_epistemic[1])\n",
    "\n",
    "        sold1.append(obs_sales[0])\n",
    "        sold2.append(obs_sales[1])\n",
    "\n",
    "        predicted_price1.append(price_hat_1)\n",
    "        predicted_price2.append(price_hat_2)\n",
    "        real_price.append(market_price)\n",
    "\n",
    "        print('hidden productions:', h_obs_prod)\n",
    "\n",
    "        Belief_gain1.append(my_agent1.C[0][h_obs_prod[0]])\n",
    "        real_gain1.append(real_gain(market_price=market_price, prod_cost=production_cost_1, n_sells=obs_sales[0], Production=h_obs_prod[0]))\n",
    "        BR1_real_gain.append(real_gain(market_price=BR1_market_price, prod_cost=production_cost_1, n_sells=BR1_obs_sales[0], Production=round(BR_1)))\n",
    "\n",
    "        Belief_gain2.append(my_agent2.C[0][h_obs_prod[1]])\n",
    "        real_gain2.append(real_gain(market_price=market_price, prod_cost=production_cost_2, n_sells=obs_sales[1], Production=h_obs_prod[1]))\n",
    "        BR2_real_gain.append(real_gain(market_price=BR2_market_price, prod_cost=production_cost_2, n_sells=BR2_obs_sales[1], Production=round(BR_2)))"
   ]
  },
  {
   "cell_type": "markdown",
   "metadata": {},
   "source": [
    "# Main"
   ]
  },
  {
   "cell_type": "code",
   "execution_count": 1541,
   "metadata": {},
   "outputs": [],
   "source": [
    "import warnings\n",
    "warnings.filterwarnings('ignore')"
   ]
  },
  {
   "cell_type": "code",
   "execution_count": 1542,
   "metadata": {},
   "outputs": [
    {
     "name": "stdout",
     "output_type": "stream",
     "text": [
      "len C 10\n",
      "C [ -0.  -5. -10. -15. -20. -25. -30. -35. -40. -45.]\n",
      "c_boh -45.0\n",
      "hidden productions: [0, 0]\n",
      "len C 10\n",
      "C [  0.  -5. -10. -15. -20. -25. -30. -35. -40. -45.]\n",
      "c_boh -45.0\n",
      "hidden productions: [0, 0]\n",
      "len C 10\n",
      "C [  0.  -5. -10. -15. -20. -25. -30. -35. -40. -45.]\n",
      "c_boh -45.0\n",
      "hidden productions: [0, 0]\n",
      "len C 10\n",
      "C [  0.  -5. -10. -15. -20. -25. -30. -35. -40. -45.]\n",
      "c_boh -45.0\n",
      "hidden productions: [0, 0]\n",
      "len C 10\n",
      "C [  0.  -5. -10. -15. -20. -25. -30. -35. -40. -45.]\n",
      "c_boh -45.0\n",
      "hidden productions: [0, 0]\n",
      "len C 10\n",
      "C [  0.  -5. -10. -15. -20. -25. -30. -35. -40. -45.]\n",
      "c_boh -45.0\n",
      "hidden productions: [0, 0]\n",
      "len C 10\n",
      "C [  0.  -5. -10. -15. -20. -25. -30. -35. -40. -45.]\n",
      "c_boh -45.0\n",
      "hidden productions: [0, 0]\n",
      "len C 10\n",
      "C [  0.  -5. -10. -15. -20. -25. -30. -35. -40. -45.]\n",
      "c_boh -45.0\n",
      "hidden productions: [0, 0]\n",
      "len C 10\n",
      "C [  0.  -5. -10. -15. -20. -25. -30. -35. -40. -45.]\n",
      "c_boh -45.0\n",
      "hidden productions: [0, 0]\n",
      "len C 10\n",
      "C [  0.  -5. -10. -15. -20. -25. -30. -35. -40. -45.]\n",
      "c_boh -45.0\n",
      "hidden productions: [0, 0]\n",
      "len C 10\n",
      "C [  0.  -5. -10. -15. -20. -25. -30. -35. -40. -45.]\n",
      "c_boh -45.0\n",
      "hidden productions: [0, 0]\n",
      "len C 10\n",
      "C [  0.  -5. -10. -15. -20. -25. -30. -35. -40. -45.]\n",
      "c_boh -45.0\n",
      "hidden productions: [0, 0]\n",
      "len C 10\n",
      "C [  0.  -5. -10. -15. -20. -25. -30. -35. -40. -45.]\n",
      "c_boh -45.0\n",
      "hidden productions: [0, 0]\n",
      "len C 10\n",
      "C [  0.  -5. -10. -15. -20. -25. -30. -35. -40. -45.]\n",
      "c_boh -45.0\n",
      "hidden productions: [0, 0]\n",
      "len C 10\n",
      "C [  0.  -5. -10. -15. -20. -25. -30. -35. -40. -45.]\n",
      "c_boh -45.0\n",
      "hidden productions: [0, 0]\n",
      "len C 10\n",
      "C [  0.  -5. -10. -15. -20. -25. -30. -35. -40. -45.]\n",
      "c_boh -45.0\n",
      "hidden productions: [0, 0]\n",
      "len C 10\n",
      "C [  0.  -5. -10. -15. -20. -25. -30. -35. -40. -45.]\n",
      "c_boh -45.0\n",
      "hidden productions: [0, 0]\n",
      "len C 10\n",
      "C [  0.  -5. -10. -15. -20. -25. -30. -35. -40. -45.]\n",
      "c_boh -45.0\n",
      "hidden productions: [0, 0]\n",
      "len C 10\n",
      "C [  0.  -5. -10. -15. -20. -25. -30. -35. -40. -45.]\n",
      "c_boh -45.0\n",
      "hidden productions: [0, 0]\n",
      "len C 10\n",
      "C [  0.  -5. -10. -15. -20. -25. -30. -35. -40. -45.]\n",
      "c_boh -45.0\n",
      "hidden productions: [0, 0]\n",
      "len C 10\n",
      "C [  0.  -5. -10. -15. -20. -25. -30. -35. -40. -45.]\n",
      "c_boh -45.0\n",
      "hidden productions: [0, 0]\n",
      "len C 10\n",
      "C [  0.  -5. -10. -15. -20. -25. -30. -35. -40. -45.]\n",
      "c_boh -45.0\n",
      "hidden productions: [0, 0]\n",
      "len C 10\n",
      "C [  0.  -5. -10. -15. -20. -25. -30. -35. -40. -45.]\n",
      "c_boh -45.0\n",
      "hidden productions: [0, 0]\n",
      "len C 10\n",
      "C [  0.  -5. -10. -15. -20. -25. -30. -35. -40. -45.]\n",
      "c_boh -45.0\n",
      "hidden productions: [0, 0]\n",
      "len C 10\n",
      "C [  0.  -5. -10. -15. -20. -25. -30. -35. -40. -45.]\n",
      "c_boh -45.0\n",
      "hidden productions: [0, 0]\n",
      "len C 10\n",
      "C [  0.  -5. -10. -15. -20. -25. -30. -35. -40. -45.]\n",
      "c_boh -45.0\n",
      "hidden productions: [0, 0]\n",
      "len C 10\n",
      "C [  0.  -5. -10. -15. -20. -25. -30. -35. -40. -45.]\n",
      "c_boh -45.0\n",
      "hidden productions: [0, 0]\n",
      "len C 10\n",
      "C [  0.  -5. -10. -15. -20. -25. -30. -35. -40. -45.]\n",
      "c_boh -45.0\n",
      "hidden productions: [0, 0]\n",
      "len C 10\n",
      "C [  0.  -5. -10. -15. -20. -25. -30. -35. -40. -45.]\n",
      "c_boh -45.0\n",
      "hidden productions: [0, 0]\n",
      "len C 10\n",
      "C [  0.  -5. -10. -15. -20. -25. -30. -35. -40. -45.]\n",
      "c_boh -45.0\n",
      "hidden productions: [0, 0]\n",
      "len C 10\n",
      "C [  0.  -5. -10. -15. -20. -25. -30. -35. -40. -45.]\n",
      "c_boh -45.0\n",
      "hidden productions: [0, 0]\n",
      "len C 10\n",
      "C [  0.  -5. -10. -15. -20. -25. -30. -35. -40. -45.]\n",
      "c_boh -45.0\n",
      "hidden productions: [0, 0]\n",
      "len C 10\n",
      "C [  0.  -5. -10. -15. -20. -25. -30. -35. -40. -45.]\n",
      "c_boh -45.0\n",
      "hidden productions: [0, 0]\n",
      "len C 10\n",
      "C [  0.  -5. -10. -15. -20. -25. -30. -35. -40. -45.]\n",
      "c_boh -45.0\n",
      "hidden productions: [0, 0]\n",
      "len C 10\n",
      "C [  0.  -5. -10. -15. -20. -25. -30. -35. -40. -45.]\n",
      "c_boh -45.0\n",
      "hidden productions: [0, 0]\n",
      "len C 10\n",
      "C [  0.  -5. -10. -15. -20. -25. -30. -35. -40. -45.]\n",
      "c_boh -45.0\n",
      "hidden productions: [0, 0]\n",
      "len C 10\n",
      "C [  0.  -5. -10. -15. -20. -25. -30. -35. -40. -45.]\n",
      "c_boh -45.0\n",
      "hidden productions: [0, 0]\n",
      "len C 10\n",
      "C [  0.  -5. -10. -15. -20. -25. -30. -35. -40. -45.]\n",
      "c_boh -45.0\n"
     ]
    },
    {
     "name": "stdout",
     "output_type": "stream",
     "text": [
      "hidden productions: [0, 0]\n",
      "len C 10\n",
      "C [  0.  -5. -10. -15. -20. -25. -30. -35. -40. -45.]\n",
      "c_boh -45.0\n",
      "hidden productions: [0, 0]\n",
      "len C 10\n",
      "C [  0.  -5. -10. -15. -20. -25. -30. -35. -40. -45.]\n",
      "c_boh -45.0\n",
      "hidden productions: [0, 0]\n",
      "len C 10\n",
      "C [  0.  -5. -10. -15. -20. -25. -30. -35. -40. -45.]\n",
      "c_boh -45.0\n",
      "hidden productions: [0, 0]\n",
      "len C 10\n",
      "C [  0.  -5. -10. -15. -20. -25. -30. -35. -40. -45.]\n",
      "c_boh -45.0\n",
      "hidden productions: [0, 0]\n",
      "len C 10\n",
      "C [  0.  -5. -10. -15. -20. -25. -30. -35. -40. -45.]\n",
      "c_boh -45.0\n",
      "hidden productions: [0, 0]\n",
      "len C 10\n",
      "C [  0.  -5. -10. -15. -20. -25. -30. -35. -40. -45.]\n",
      "c_boh -45.0\n",
      "hidden productions: [0, 0]\n",
      "len C 10\n",
      "C [  0.  -5. -10. -15. -20. -25. -30. -35. -40. -45.]\n",
      "c_boh -45.0\n",
      "hidden productions: [0, 0]\n",
      "len C 10\n",
      "C [  0.  -5. -10. -15. -20. -25. -30. -35. -40. -45.]\n",
      "c_boh -45.0\n",
      "hidden productions: [0, 0]\n",
      "len C 10\n",
      "C [  0.  -5. -10. -15. -20. -25. -30. -35. -40. -45.]\n",
      "c_boh -45.0\n",
      "hidden productions: [0, 0]\n",
      "len C 10\n",
      "C [  0.  -5. -10. -15. -20. -25. -30. -35. -40. -45.]\n",
      "c_boh -45.0\n",
      "hidden productions: [0, 0]\n",
      "len C 10\n",
      "C [  0.  -5. -10. -15. -20. -25. -30. -35. -40. -45.]\n",
      "c_boh -45.0\n",
      "hidden productions: [0, 0]\n",
      "len C 10\n",
      "C [  0.  -5. -10. -15. -20. -25. -30. -35. -40. -45.]\n",
      "c_boh -45.0\n",
      "hidden productions: [0, 0]\n"
     ]
    }
   ],
   "source": [
    "reputation_env = 0.5\n",
    "total_demand_env = 12\n",
    "env = CournotMarket(reputation = reputation_env, total_demand = total_demand_env, max_customer_price = max_customer_price, sensibility = sensibility)\n",
    "\n",
    "T = 50\n",
    "\n",
    "run_active_inference_loop(my_agent1, my_agent2, env, BR_1 = BR_1, BR_2 = BR_2, T = T)"
   ]
  },
  {
   "cell_type": "markdown",
   "metadata": {},
   "source": [
    "# Plot"
   ]
  },
  {
   "cell_type": "code",
   "execution_count": 1543,
   "metadata": {},
   "outputs": [],
   "source": [
    "time = np.arange(T)"
   ]
  },
  {
   "cell_type": "code",
   "execution_count": 1544,
   "metadata": {},
   "outputs": [
    {
     "data": {
      "image/png": "[encoded data removed]",
      "text/plain": [
       "<Figure size 1000x500 with 2 Axes>"
      ]
     },
     "metadata": {},
     "output_type": "display_data"
    }
   ],
   "source": [
    "import matplotlib.pyplot as plt\n",
    "import numpy as np\n",
    "import matplotlib.patches as mpatches\n",
    "\n",
    "# Convert 'Epistemic' and 'Profit' into colors\n",
    "def get_colors(epistemic_choices):\n",
    "    return ['blue' if choice == 'Epistemic' else 'red' for choice in epistemic_choices]\n",
    "\n",
    "# Creazione asse temporale\n",
    "time = np.arange(len(epistemic_choice1))\n",
    "\n",
    "# Ottenere colori\n",
    "colors1 = get_colors(epistemic_choice1)\n",
    "colors2 = get_colors(epistemic_choice2)\n",
    "\n",
    "# Creare il plot\n",
    "fig, axes = plt.subplots(2, 1, figsize=(10, 5), sharex=True)\n",
    "\n",
    "# Agente 1\n",
    "axes[0].bar(time, np.ones_like(time), color=colors1, edgecolor='black', linewidth=0.5)\n",
    "axes[0].set_ylabel(\"Agent 1\")\n",
    "axes[0].set_yticks([])  # Rimuove i numeri dall'asse y\n",
    "axes[0].set_title(\"Epistemic vs Profit Choices Over Time\")\n",
    "\n",
    "# Agente 2\n",
    "axes[1].bar(time, np.ones_like(time), color=colors2, edgecolor='black', linewidth=0.5)\n",
    "axes[1].set_ylabel(\"Agent 2\")\n",
    "axes[1].set_yticks([])  # Rimuove i numeri dall'asse y\n",
    "axes[1].set_xlabel(\"Time\")\n",
    "\n",
    "# Aggiungere legenda\n",
    "epistemic_patch = mpatches.Patch(color='blue', label='Epistemic')\n",
    "profit_patch = mpatches.Patch(color='red', label='Profit')\n",
    "fig.legend(handles=[epistemic_patch, profit_patch], loc='upper right', bbox_to_anchor=(1, 1), frameon=False)\n",
    "\n",
    "# Miglioramenti grafici\n",
    "plt.tight_layout()\n",
    "plt.show()"
   ]
  },
  {
   "cell_type": "code",
   "execution_count": 1545,
   "metadata": {},
   "outputs": [
    {
     "data": {
      "image/png": "[encoded data removed]",
      "text/plain": [
       "<Figure size 1000x500 with 1 Axes>"
      ]
     },
     "metadata": {},
     "output_type": "display_data"
    }
   ],
   "source": [
    "# 1) Plot di prod1 e sold1 nel tempo\n",
    "plt.figure(figsize=(10, 5))\n",
    "plt.plot(time, prod1, label='Production 1', marker='o')\n",
    "plt.plot(time, sold1, label='Sales 1', marker='s')\n",
    "plt.axhline(y=BR_1, color='r', linestyle='--', label='BR_1')\n",
    "plt.xlabel('Time')\n",
    "plt.ylabel('Quantity')\n",
    "plt.title('Production and Sales for Product 1')\n",
    "plt.legend()\n",
    "plt.grid()\n",
    "plt.show()"
   ]
  },
  {
   "cell_type": "code",
   "execution_count": 1546,
   "metadata": {},
   "outputs": [
    {
     "data": {
      "image/png": "[encoded data removed]",
      "text/plain": [
       "<Figure size 1000x500 with 1 Axes>"
      ]
     },
     "metadata": {},
     "output_type": "display_data"
    }
   ],
   "source": [
    "# 2) Plot di prod2 e sold2 nel tempo\n",
    "plt.figure(figsize=(10, 5))\n",
    "plt.plot(time, prod2, label='Production 2', marker='o')\n",
    "plt.plot(time, sold2, label='Sales 2', marker='s')\n",
    "plt.axhline(y=BR_2, color='r', linestyle='--', label='BR_2')\n",
    "plt.xlabel('Time')\n",
    "plt.ylabel('Quantity')\n",
    "plt.title('Production and Sales for Product 2')\n",
    "plt.legend()\n",
    "plt.grid()\n",
    "plt.show()"
   ]
  },
  {
   "cell_type": "code",
   "execution_count": 1547,
   "metadata": {},
   "outputs": [
    {
     "data": {
      "image/png": "[encoded data removed]",
      "text/plain": [
       "<Figure size 1000x500 with 1 Axes>"
      ]
     },
     "metadata": {},
     "output_type": "display_data"
    }
   ],
   "source": [
    "# 3) Andamento di real_price e predicted_price nel tempo\n",
    "plt.figure(figsize=(10, 5))\n",
    "plt.plot(time, real_price, label='Real Price', marker='o')\n",
    "plt.plot(time, predicted_price1, label='Predicted Price 1', marker='s')\n",
    "plt.plot(time, predicted_price2, label='Predicted Price 2', marker='s')\n",
    "plt.xlabel('Time')\n",
    "plt.ylabel('Price')\n",
    "plt.title('Real vs Predicted Price')\n",
    "plt.legend()\n",
    "plt.grid()\n",
    "plt.show()"
   ]
  },
  {
   "cell_type": "code",
   "execution_count": 1548,
   "metadata": {},
   "outputs": [
    {
     "data": {
      "image/png": "[encoded data removed]",
      "text/plain": [
       "<Figure size 1000x500 with 1 Axes>"
      ]
     },
     "metadata": {},
     "output_type": "display_data"
    }
   ],
   "source": [
    "# 4) Andamento di belief_gain, BR_belief_gain, real_gain, BR_real_gain nel tempo\n",
    "plt.figure(figsize=(10, 5))\n",
    "plt.plot(time, Belief_gain1, label='Belief Gain', marker='o')\n",
    "# plt.plot(time, BR_belief_gain, label='BR Belief Gain', marker='s')\n",
    "plt.plot(time, real_gain1, label='Real Gain', marker='^')\n",
    "plt.plot(time, BR1_real_gain, label='BR  Gain', marker='d')\n",
    "plt.xlabel('Time')\n",
    "plt.ylabel('Gain')\n",
    "plt.title('Comparison of BR and Real Gain for agent 1')\n",
    "plt.legend()\n",
    "plt.grid()\n",
    "plt.show()"
   ]
  },
  {
   "cell_type": "code",
   "execution_count": 1549,
   "metadata": {},
   "outputs": [
    {
     "data": {
      "image/png": "[encoded data removed]",
      "text/plain": [
       "<Figure size 1000x500 with 1 Axes>"
      ]
     },
     "metadata": {},
     "output_type": "display_data"
    }
   ],
   "source": [
    "plt.figure(figsize=(10, 5))\n",
    "plt.plot(time, Belief_gain2, label='Belief Gain', marker='o')\n",
    "# plt.plot(time, BR_belief_gain, label='BR Belief Gain', marker='s')\n",
    "plt.plot(time, real_gain2, label='Real Gain', marker='^')\n",
    "plt.plot(time, BR2_real_gain, label='BR  Gain', marker='d')\n",
    "plt.xlabel('Time')\n",
    "plt.ylabel('Gain')\n",
    "plt.title('Comparison of BR and Real Gain for agent 2')\n",
    "plt.legend()\n",
    "plt.grid()\n",
    "plt.show()"
   ]
  }
 ],
 "metadata": {
  "kernelspec": {
   "display_name": "base",
   "language": "python",
   "name": "python3"
  },
  "language_info": {
   "codemirror_mode": {
    "name": "ipython",
    "version": 3
   },
   "file_extension": ".py",
   "mimetype": "text/x-python",
   "name": "python",
   "nbconvert_exporter": "python",
   "pygments_lexer": "ipython3",
   "version": "3.11.7"
  }
 },
 "nbformat": 4,
 "nbformat_minor": 2
}
