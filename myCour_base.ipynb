{
 "cells": [
  {
   "cell_type": "markdown",
   "metadata": {},
   "source": [
    "# Cournot duopoly"
   ]
  },
  {
   "cell_type": "markdown",
   "metadata": {},
   "source": [
    "**Context:** there a re two companies producing the same identical good for the same group of costumers. In particular, for each time istant each company has to decide how much of that good produce. Conversely at each time instant the group of consumer has to decide weather to buy or not as well as from which of the two company, eventually. Compines strive for maximization of profit.\n",
    "\n",
    "**Model:** the istance has been approached from the active inference perspective. Companies are modeled as agents which:\n",
    "- at each time step decide the quantity ($q_i$) of goods to produce \n",
    "- production costs $C(q_i)$ are fixed\n",
    "- Costumers decide the price according to a profit function $P(Q=q_1+q_2)$, which is unkown to the agents\n",
    "\n",
    "**Further assumptions:** these are minor assumptions in the code:\n",
    "- the total number of costumers is unkown to companies and fixed over time [variante: $~N(\\mu,\\sigma)$ per dare varianza all'agente]\n",
    "- the amount of good sold by the first company is handled through a \"reputation\" parameter ($\\in[0,1]$), higher it is higher the amount of good sold. The second company has (1-reputation) consumers.\n",
    "\n",
    "**Active Inference perspective:** What follow is a brief recap of the agents and environment design. The first observation to be made is about multy-agency perspective in active inference paradigm. Not having found examples about this specific case I imagined two agents acting through the same set of possible action in the same environment, in the same moments. In this view lies also the choice of the \"Cournot Duopoly\" example.\n",
    "Furthermore, for every company:\n",
    "\n",
    "- observation O={profit}; [attualmente sono sold_items le osservazioni... il ricavo è variabile... pensarci su]\n",
    "- states S={sold_item}; \n",
    "- actions U={how much do I produce};\n",
    "\n",
    "- Likelihood matrix A assumes a perfect perception:\n",
    "- Transition matric B assumes to sell less or equal to the amount produced, in an uninformative way; [magari considerare una campana]\n",
    "- Goal oriented priors C assumes the basic \"the more I sell, the more I gain\", assuming a selling price; [pensarci seriamente...]\n",
    "- Prior over stated D uninformative, I expect to see the market.\n",
    "\n",
    "Finally, the environment takes in input the amount produced by the two companies, elaborates the market price [che non viene mai usato!!!] and assigns to costumers the items according to the reputation. The output of the environment are sales data for both company. \n",
    "\n"
   ]
  },
  {
   "cell_type": "code",
   "execution_count": 1,
   "metadata": {},
   "outputs": [],
   "source": [
    "import numpy as np\n",
    "import matplotlib.pyplot as plt\n",
    "import seaborn as sns"
   ]
  },
  {
   "cell_type": "code",
   "execution_count": 2,
   "metadata": {},
   "outputs": [],
   "source": [
    "import pymdp\n",
    "from pymdp import utils"
   ]
  },
  {
   "cell_type": "markdown",
   "metadata": {},
   "source": [
    "## Problem initialization"
   ]
  },
  {
   "cell_type": "markdown",
   "metadata": {},
   "source": [
    "Dimensionalities of the hidden states factors, the control factors, and observation modalities"
   ]
  },
  {
   "cell_type": "code",
   "execution_count": 3,
   "metadata": {},
   "outputs": [],
   "source": [
    "Sales_1 =  np.array([0, 1, 2, 3, 4, 5])\n",
    "Sales_2 =  np.array([0, 1, 2, 3, 4, 5])\n",
    "\n",
    "Production_1 =  np.array([0, 1, 2, 3, 4, 5])\n",
    "Production_2 =  np.array([0, 1, 2, 3, 4, 5])\n",
    "\n",
    "# number of states\n",
    "n_states_1 = [len(Sales_1), len(Production_1)]\n",
    "n_states_2 = [len(Sales_2), len(Production_2)]\n",
    "\n",
    "# number of factors\n",
    "n_factors_1 = len(n_states_1) #? capiamo\n",
    "n_factors_2 = len(n_states_2)\n",
    "\n",
    "# observations of sales \n",
    "obs_sales_1 = np.array([0, 1, 2, 3, 4, 5])\n",
    "obs_sales_2 = np.array([0, 1, 2, 3, 4, 5])\n",
    "\n",
    "# number of observations and modalities\n",
    "num_obs_1 = len(obs_sales_1)\n",
    "num_obs_2 = len(obs_sales_2)\n",
    "\n",
    "num_modalities_1 = 1\n",
    "num_modalities_2 = 1\n",
    "\n",
    "# num_modalities_1 = len(num_obs_1) qui ho solo una modalità \n",
    "# num_modalities_2 = len(num_obs_2)"
   ]
  },
  {
   "cell_type": "markdown",
   "metadata": {},
   "source": [
    "## Agents initialization"
   ]
  },
  {
   "cell_type": "markdown",
   "metadata": {},
   "source": [
    "### Likelihood matrices"
   ]
  },
  {
   "cell_type": "code",
   "execution_count": 4,
   "metadata": {},
   "outputs": [],
   "source": [
    "A1 = utils.obj_array(num_modalities_1)\n",
    "A2 = utils.obj_array(num_modalities_2)"
   ]
  },
  {
   "cell_type": "markdown",
   "metadata": {},
   "source": [
    "modeling perfect perception of the sold items:"
   ]
  },
  {
   "cell_type": "code",
   "execution_count": 5,
   "metadata": {},
   "outputs": [],
   "source": [
    "A1[0] = np.eye(n_states_1[0])\n",
    "A2[0] = np.eye(n_states_2[0])"
   ]
  },
  {
   "cell_type": "markdown",
   "metadata": {},
   "source": [
    "### Transition matrices"
   ]
  },
  {
   "cell_type": "code",
   "execution_count": 6,
   "metadata": {},
   "outputs": [],
   "source": [
    "B1 = np.zeros((n_states_1[0], n_states_1[0], n_states_1[1]))\n",
    "B2 = np.zeros((n_states_2[0], n_states_2[0], n_states_2[1]))"
   ]
  },
  {
   "cell_type": "code",
   "execution_count": 7,
   "metadata": {},
   "outputs": [],
   "source": [
    "for i in range(n_states_1[1]):  # for every level of production \n",
    "    for start_state in range(n_states_1[0]):  # Initial states of sales\n",
    "        max_sales = min(start_state, i)  # maximum sale is min(start_state, i)\n",
    "        \n",
    "        if max_sales >= 0:\n",
    "            B1[:max_sales+1, start_state, i] = 1 / (max_sales + 1)  # uninformative distr."
   ]
  },
  {
   "cell_type": "code",
   "execution_count": 8,
   "metadata": {},
   "outputs": [],
   "source": [
    "for i in range(n_states_2[1]):  # for every level of production \n",
    "    for start_state in range(n_states_2[0]):  # Initial states of sales\n",
    "        max_sales = min(start_state, i)  # maximum sale is min(start_state, i)\n",
    "        \n",
    "        if max_sales >= 0:\n",
    "            B2[:max_sales+1, start_state, i] = 1 / (max_sales + 1)  # uninformative distr."
   ]
  },
  {
   "cell_type": "markdown",
   "metadata": {},
   "source": [
    "### Goal oriented priors "
   ]
  },
  {
   "cell_type": "code",
   "execution_count": 9,
   "metadata": {},
   "outputs": [],
   "source": [
    "production_price_1 = 50 # price of a single piece\n",
    "discount_rate_1 = 1 # the more I produce the less I pay\n",
    "\n",
    "C1 = utils.obj_array_zeros(Production_1)\n",
    "\n",
    "C1 = production_price_1 * discount_rate_1 * Production_1"
   ]
  },
  {
   "cell_type": "code",
   "execution_count": 10,
   "metadata": {},
   "outputs": [],
   "source": [
    "production_price_2 = 5 # price of a single piece\n",
    "discount_rate_2 = 1 # the more I produce the less I pay\n",
    "\n",
    "C2 = utils.obj_array_zeros(Production_2)\n",
    "\n",
    "C2 = production_price_2 * discount_rate_2 * Production_2"
   ]
  },
  {
   "cell_type": "markdown",
   "metadata": {},
   "source": [
    "### States prior"
   ]
  },
  {
   "cell_type": "code",
   "execution_count": 11,
   "metadata": {},
   "outputs": [],
   "source": [
    "# D = utils.obj_array_uniform(Sales_1) #vorrei usarlo ma fa cose strane\n",
    "D1 = np.full(len(Sales_1), 1 / len(Sales_1))"
   ]
  },
  {
   "cell_type": "code",
   "execution_count": 12,
   "metadata": {},
   "outputs": [],
   "source": [
    "D2 = np.full(len(Sales_2), 1 / len(Sales_2))"
   ]
  },
  {
   "cell_type": "markdown",
   "metadata": {},
   "source": [
    "### Agents construction"
   ]
  },
  {
   "cell_type": "code",
   "execution_count": 13,
   "metadata": {},
   "outputs": [],
   "source": [
    "from pymdp.agent import Agent\n",
    "\n",
    "my_agent1 = Agent(A = A1, B = B1, C = C1, D = D1)\n",
    "my_agent2 = Agent(A = A2, B = B2, C = C2, D = D2)"
   ]
  },
  {
   "cell_type": "markdown",
   "metadata": {},
   "source": [
    "## Generative process"
   ]
  },
  {
   "cell_type": "markdown",
   "metadata": {},
   "source": [
    "We shall create an environment able to elaborate the actions of the two agents and return an observation for both.\n",
    "\n",
    "Even if this is a first attempt and the agent expect only to see sales results, I'm already introducing the price function which determines the market price of the good given the joint production of the two agents. This is for sure to be integrated somehow somewhere."
   ]
  },
  {
   "cell_type": "code",
   "execution_count": 14,
   "metadata": {},
   "outputs": [],
   "source": [
    "class CournotMarket(object):\n",
    "\n",
    "    def __init__(self, reputation=0.5, total_demand=5, max_customer_price=10, sensibility=1):\n",
    "        self.reputation = float(reputation)\n",
    "        self.total_demand = float(total_demand)\n",
    "        self.max_customer_price = float(max_customer_price)\n",
    "        self.sensibility = float(sensibility)\n",
    "\n",
    "    def step(self, action1, action2):\n",
    "        total_production = action1 + action2\n",
    "        if total_production < self.total_demand:\n",
    "            self.total_demand = total_production\n",
    "\n",
    "        market_price = max(0, self.max_customer_price - self.sensibility * total_production)\n",
    "\n",
    "        # I cannot sell more than my production\n",
    "        if action1 > int(self.total_demand * self.reputation):\n",
    "            actual_sales_1 = int(self.total_demand * self.reputation)\n",
    "        else:\n",
    "            actual_sales_1 = int(action1)\n",
    "        \n",
    "        if action2 > int(self.total_demand - actual_sales_1):\n",
    "            actual_sales_2 = int(self.total_demand - actual_sales_1)\n",
    "        else:\n",
    "            actual_sales_2 = int(action2)\n",
    "\n",
    "        obs = [actual_sales_1, actual_sales_2]\n",
    "        return obs\n"
   ]
  },
  {
   "cell_type": "markdown",
   "metadata": {},
   "source": [
    "## Active Inference Loop"
   ]
  },
  {
   "cell_type": "markdown",
   "metadata": {},
   "source": [
    "Now let's write a function that takes the:\n",
    "- Agent\n",
    "- Environment \n",
    "- Time length\n",
    "and run the active inference loop"
   ]
  },
  {
   "cell_type": "code",
   "execution_count": 19,
   "metadata": {},
   "outputs": [],
   "source": [
    "def run_active_inference_loop(my_agent1, my_agent2, my_env, T = 5):\n",
    "    \"\"\"Initialize first observation\"\"\"\n",
    "    obs = [1,5]\n",
    "\n",
    "    for t in range(T):\n",
    "        qs_1 = my_agent1.infer_states([obs[0]])\n",
    "        qs_2 = my_agent2.infer_states([obs[1]])\n",
    "\n",
    "        q_pi_1, efe_1 = my_agent1.infer_policies()\n",
    "        q_pi_2, efe_2 = my_agent2.infer_policies()\n",
    "\n",
    "        action_1 = my_agent1.sample_action()\n",
    "        action_2 = my_agent2.sample_action()\n",
    "\n",
    "        obs = my_env.step(action_1, action_2)\n",
    "\n",
    "        print(f'Production industry 1 at time {t}: {action_1}')\n",
    "        print(f'Production industry 2 at time {t}: {action_2}') \n",
    "        print(f'Sells of industry 1 at time {t}: {obs[0]}')\n",
    "        print(f'Sells of industry 2 at time {t}: {obs[1]}')\n"
   ]
  },
  {
   "cell_type": "markdown",
   "metadata": {},
   "source": [
    "## Main"
   ]
  },
  {
   "cell_type": "code",
   "execution_count": 20,
   "metadata": {},
   "outputs": [],
   "source": [
    "import warnings\n",
    "warnings.filterwarnings('ignore')"
   ]
  },
  {
   "cell_type": "code",
   "execution_count": 21,
   "metadata": {},
   "outputs": [
    {
     "name": "stdout",
     "output_type": "stream",
     "text": [
      "Production industry 1 at time 0: [1.]\n",
      "Production industry 2 at time 0: [5.]\n",
      "Sells of industry 1 at time 0: 1\n",
      "Sells of industry 2 at time 0: 5\n",
      "Production industry 1 at time 1: [1.]\n",
      "Production industry 2 at time 1: [5.]\n",
      "Sells of industry 1 at time 1: 1\n",
      "Sells of industry 2 at time 1: 5\n",
      "Production industry 1 at time 2: [1.]\n",
      "Production industry 2 at time 2: [5.]\n",
      "Sells of industry 1 at time 2: 1\n",
      "Sells of industry 2 at time 2: 5\n",
      "Production industry 1 at time 3: [1.]\n",
      "Production industry 2 at time 3: [5.]\n",
      "Sells of industry 1 at time 3: 1\n",
      "Sells of industry 2 at time 3: 5\n",
      "Production industry 1 at time 4: [1.]\n",
      "Production industry 2 at time 4: [5.]\n",
      "Sells of industry 1 at time 4: 1\n",
      "Sells of industry 2 at time 4: 5\n"
     ]
    }
   ],
   "source": [
    "reputation_env = 0.5\n",
    "total_demand_env = 6\n",
    "env = CournotMarket(reputation = reputation_env, total_demand = total_demand_env, max_customer_price = 0, sensibility = 1)\n",
    "\n",
    "T = 5\n",
    "\n",
    "run_active_inference_loop(my_agent1, my_agent2, env, T = T)"
   ]
  }
 ],
 "metadata": {
  "kernelspec": {
   "display_name": "base",
   "language": "python",
   "name": "python3"
  },
  "language_info": {
   "codemirror_mode": {
    "name": "ipython",
    "version": 3
   },
   "file_extension": ".py",
   "mimetype": "text/x-python",
   "name": "python",
   "nbconvert_exporter": "python",
   "pygments_lexer": "ipython3",
   "version": "3.11.7"
  }
 },
 "nbformat": 4,
 "nbformat_minor": 2
}
